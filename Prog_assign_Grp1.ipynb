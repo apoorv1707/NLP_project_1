{
  "nbformat": 4,
  "nbformat_minor": 0,
  "metadata": {
    "colab": {
      "name": "Prog_assign.ipynb",
      "provenance": [],
      "collapsed_sections": []
    },
    "kernelspec": {
      "name": "python3",
      "display_name": "Python 3"
    },
    "language_info": {
      "name": "python"
    }
  },
  "cells": [
    {
      "cell_type": "markdown",
      "source": [
        "# **Predicting fake news using word embeddings and comparing their performance**"
      ],
      "metadata": {
        "id": "3dl0JyuYpG1q"
      }
    },
    {
      "cell_type": "code",
      "source": [
        "#We have fake and real news dataset. Link to the dataset: \"https://www.kaggle.com/datasets/clmentbisaillon/fake-and-real-news-dataset?select=Fake.csv\".\n",
        "#The dataset contains the following columns: \"title\",\"text\",\"subject\",\"date\". There are two seperate dataset for fake and real news.\n",
        "#We take 500 rows from both dataset and then combine them to form a single dataset with additional column conveying whether news is real or fake.\n",
        "#Then we use word embedding models to create vector from the available news text column.\n",
        "#The word embeddings used are: word2vec, BERT-base, BERT-Large and AlBERT.\n",
        "#After creating the vectors from these word embedding models, we train a binary classification model to predict whether news is real or fake.\n",
        "#Our novel application with this programming assignment is that we are comparing various word embedding models on this specific task of fake news prediction.\n",
        "#Word embeddings play a huge role in predicting the label. The vector produced includes various features in numerical form which differs from model to model.\n",
        "#We try to figure out which word embedding model creates the best vectors assisting in predicting fake news.\n",
        "#The explanation is given at each step in respective code chunks.\n",
        "#The results are summarised at the end."
      ],
      "metadata": {
        "id": "DdlpipivpGNI"
      },
      "execution_count": 180,
      "outputs": []
    },
    {
      "cell_type": "code",
      "execution_count": 1,
      "metadata": {
        "id": "tYW2XYiM_qoI"
      },
      "outputs": [],
      "source": [
        "!apt-get install openjdk-8-jdk-headless -qq > /dev/null\n",
        "!wget -q https://archive.apache.org/dist/spark/spark-3.2.0/spark-3.2.0-bin-hadoop3.2.tgz\n",
        "!tar xf spark-3.2.0-bin-hadoop3.2.tgz\n",
        "!pip install -q findspark"
      ]
    },
    {
      "cell_type": "code",
      "source": [
        "import os\n",
        "os.environ[\"JAVA_HOME\"] = \"/usr/lib/jvm/java-8-openjdk-amd64\"\n",
        "os.environ[\"SPARK_HOME\"] = \"spark-3.2.0-bin-hadoop3.2\""
      ],
      "metadata": {
        "id": "tRKjg8jQ_ucj"
      },
      "execution_count": 2,
      "outputs": []
    },
    {
      "cell_type": "code",
      "source": [
        "import findspark\n",
        "findspark.init()"
      ],
      "metadata": {
        "id": "YRc73NPs_uYd"
      },
      "execution_count": 3,
      "outputs": []
    },
    {
      "cell_type": "code",
      "source": [
        "from pyspark.sql import SparkSession\n",
        "spark = SparkSession.builder.master(\"local[*]\").getOrCreate()\n",
        "sc = spark.sparkContext\n",
        "sc"
      ],
      "metadata": {
        "colab": {
          "base_uri": "https://localhost:8080/",
          "height": 197
        },
        "id": "ABgZ39C4_uUP",
        "outputId": "25558fad-3de2-416b-8ba3-516f6f74c52f"
      },
      "execution_count": 4,
      "outputs": [
        {
          "output_type": "execute_result",
          "data": {
            "text/plain": [
              "<SparkContext master=local[*] appName=pyspark-shell>"
            ],
            "text/html": [
              "\n",
              "        <div>\n",
              "            <p><b>SparkContext</b></p>\n",
              "\n",
              "            <p><a href=\"http://e5fdaa645c63:4040\">Spark UI</a></p>\n",
              "\n",
              "            <dl>\n",
              "              <dt>Version</dt>\n",
              "                <dd><code>v3.2.0</code></dd>\n",
              "              <dt>Master</dt>\n",
              "                <dd><code>local[*]</code></dd>\n",
              "              <dt>AppName</dt>\n",
              "                <dd><code>pyspark-shell</code></dd>\n",
              "            </dl>\n",
              "        </div>\n",
              "        "
            ]
          },
          "metadata": {},
          "execution_count": 4
        }
      ]
    },
    {
      "cell_type": "markdown",
      "source": [
        "# **Connecting to google drive**"
      ],
      "metadata": {
        "id": "T3sClkd0uZKy"
      }
    },
    {
      "cell_type": "code",
      "source": [
        "from google.colab import drive\n",
        "drive.mount('/content/drive')"
      ],
      "metadata": {
        "colab": {
          "base_uri": "https://localhost:8080/"
        },
        "id": "SF1W4qlt_uOe",
        "outputId": "a27c1377-e709-467f-9b05-2aac9151ccf4"
      },
      "execution_count": 5,
      "outputs": [
        {
          "output_type": "stream",
          "name": "stdout",
          "text": [
            "Mounted at /content/drive\n"
          ]
        }
      ]
    },
    {
      "cell_type": "markdown",
      "source": [
        "# **Loading the datasets**"
      ],
      "metadata": {
        "id": "rVUdhyMvud5V"
      }
    },
    {
      "cell_type": "code",
      "source": [
        "fakepath = '/content/drive/MyDrive/NLP/Fake.csv'"
      ],
      "metadata": {
        "id": "6iOvzXYH_uCR"
      },
      "execution_count": 83,
      "outputs": []
    },
    {
      "cell_type": "code",
      "source": [
        "truepath = '/content/drive/MyDrive/NLP/True.csv'"
      ],
      "metadata": {
        "id": "HE2hn6Gg_t7o"
      },
      "execution_count": 84,
      "outputs": []
    },
    {
      "cell_type": "code",
      "source": [
        "fakenews = spark.read.csv(fakepath, header = True)"
      ],
      "metadata": {
        "id": "itj0TqF6_tzz"
      },
      "execution_count": 85,
      "outputs": []
    },
    {
      "cell_type": "code",
      "source": [
        "fakenews.show(20)"
      ],
      "metadata": {
        "colab": {
          "base_uri": "https://localhost:8080/"
        },
        "id": "9fI9J5WsA9aV",
        "outputId": "509dd597-244e-4c25-de42-d4b624434d03"
      },
      "execution_count": 86,
      "outputs": [
        {
          "output_type": "stream",
          "name": "stdout",
          "text": [
            "+--------------------+--------------------+-------+-----------------+\n",
            "|               title|                text|subject|             date|\n",
            "+--------------------+--------------------+-------+-----------------+\n",
            "| Donald Trump Sen...|Donald Trump just...|   News|December 31, 2017|\n",
            "| Drunk Bragging T...|House Intelligenc...|   News|December 31, 2017|\n",
            "| Sheriff David Cl...|On Friday, it was...|   News|December 30, 2017|\n",
            "| Trump Is So Obse...|On Christmas day,...|   News|December 29, 2017|\n",
            "| Pope Francis Jus...|Pope Francis used...|   News|December 25, 2017|\n",
            "| Racist Alabama C...|The number of cas...|   News|December 25, 2017|\n",
            "| Fresh Off The Go...|Donald Trump spen...|   News|December 23, 2017|\n",
            "| Trump Said Some ...|In the wake of ye...|   News|December 23, 2017|\n",
            "| Former CIA Direc...|Many people have ...|   News|December 22, 2017|\n",
            "| WATCH: Brand-New...|Just when you mig...|   News|December 21, 2017|\n",
            "| Papa John’s Foun...|A centerpiece of ...|   News|December 21, 2017|\n",
            "| WATCH: Paul Ryan...|Republicans are w...|   News|December 21, 2017|\n",
            "| Bad News For Tru...|Republicans have ...|   News|December 21, 2017|\n",
            "| WATCH: Lindsey G...|The media has bee...|   News|December 20, 2017|\n",
            "| Heiress To Disne...|Abigail Disney is...|   News|December 20, 2017|\n",
            "| Tone Deaf Trump:...|Donald Trump just...|   News|December 20, 2017|\n",
            "| The Internet Bru...|A new animatronic...|   News|December 19, 2017|\n",
            "| Mueller Spokesma...|Trump supporters ...|   News|December 17, 2017|\n",
            "| SNL Hilariously ...|Right now, the wh...|   News|December 17, 2017|\n",
            "| Republican Senat...|Senate Majority W...|   News|December 16, 2017|\n",
            "+--------------------+--------------------+-------+-----------------+\n",
            "only showing top 20 rows\n",
            "\n"
          ]
        }
      ]
    },
    {
      "cell_type": "code",
      "source": [
        "truenews = spark.read.csv(truepath, header = True)"
      ],
      "metadata": {
        "id": "STF860MTBFXM"
      },
      "execution_count": 87,
      "outputs": []
    },
    {
      "cell_type": "code",
      "source": [
        "truenews.show(20)"
      ],
      "metadata": {
        "colab": {
          "base_uri": "https://localhost:8080/"
        },
        "id": "yaiGwpXuBFU5",
        "outputId": "30ba5940-c9b1-4b95-be31-9cb010ba34d0"
      },
      "execution_count": 88,
      "outputs": [
        {
          "output_type": "stream",
          "name": "stdout",
          "text": [
            "+--------------------+--------------------+--------------------+------------------+\n",
            "|               title|                text|             subject|              date|\n",
            "+--------------------+--------------------+--------------------+------------------+\n",
            "|As U.S. budget fi...|WASHINGTON (Reute...|        politicsNews|December 31, 2017 |\n",
            "|U.S. military to ...|WASHINGTON (Reute...|        politicsNews|December 29, 2017 |\n",
            "|Senior U.S. Repub...|WASHINGTON (Reute...|        politicsNews|December 31, 2017 |\n",
            "|FBI Russia probe ...|WASHINGTON (Reute...|        politicsNews|December 30, 2017 |\n",
            "|Trump wants Posta...|SEATTLE/WASHINGTO...|        politicsNews|December 29, 2017 |\n",
            "|White House, Cong...|WEST PALM BEACH, ...|        politicsNews|December 29, 2017 |\n",
            "|Trump says Russia...|WEST PALM BEACH, ...|        politicsNews|December 29, 2017 |\n",
            "|Factbox: Trump on...|The following sta...|        politicsNews|December 29, 2017 |\n",
            "|Trump on Twitter ...|The following sta...|        politicsNews|December 29, 2017 |\n",
            "|Alabama official ...|WASHINGTON (Reute...|        politicsNews|December 28, 2017 |\n",
            "|Jones certified U...|(Reuters) - Alaba...|        politicsNews|December 28, 2017 |\n",
            "|New York governor...|NEW YORK/WASHINGT...|        politicsNews|December 28, 2017 |\n",
            "|Factbox: Trump on...|The following sta...|        politicsNews|December 28, 2017 |\n",
            "|Trump on Twitter ...|\"The following st...| Associates Up 83...|      politicsNews|\n",
            "|Man says he deliv...| (In Dec. 25 stor...|        politicsNews|December 25, 2017 |\n",
            "|Virginia official...|(Reuters) - A lot...|        politicsNews|December 27, 2017 |\n",
            "|U.S. lawmakers qu...|WASHINGTON (Reute...|        politicsNews|December 27, 2017 |\n",
            "|Trump on Twitter ...|The following sta...|        politicsNews|December 26, 2017 |\n",
            "|U.S. appeals cour...|(Reuters) - A U.S...|        politicsNews|December 26, 2017 |\n",
            "|Treasury Secretar...|(Reuters) - A gif...|        politicsNews|December 24, 2017 |\n",
            "+--------------------+--------------------+--------------------+------------------+\n",
            "only showing top 20 rows\n",
            "\n"
          ]
        }
      ]
    },
    {
      "cell_type": "code",
      "source": [
        "#Converting both dataframes to pandas dataframe and sampling random 500 rows from both the dataframes\n",
        "import pandas as pd\n",
        "fakenewspd = fakenews.toPandas()\n",
        "fakenewspd = fakenewspd.sample(n=500, random_state=2)\n",
        "fakenewspd.head()"
      ],
      "metadata": {
        "colab": {
          "base_uri": "https://localhost:8080/",
          "height": 206
        },
        "id": "3Ct7AcZ7BFPw",
        "outputId": "f21d4cb2-3a4b-46dc-d16e-2b41cd289a86"
      },
      "execution_count": 89,
      "outputs": [
        {
          "output_type": "execute_result",
          "data": {
            "text/plain": [
              "                                                   title  \\\n",
              "15154  CASTRO IGNORES DISASTROUS COMMUNIST POLICIES T...   \n",
              "7624    Gun Industry Has NO SHAME In Their PATHETIC S...   \n",
              "12996  STUNNING DEVELOPMENT: OBAMA GIVES $75 MILLION ...   \n",
              "14424  STUNNING! FORMER DISNEY TECH WORKER’S Emotiona...   \n",
              "20655  LONG TIME DEMOCRATS, UNION WORKERS Explain Why...   \n",
              "\n",
              "                                                    text    subject  \\\n",
              "15154  If Obama had a communist friend he d be this p...   politics   \n",
              "7624   While one could argue that the Second Amendmen...       News   \n",
              "12996  You have got to be kidding me! After all the t...   politics   \n",
              "14424                                                      politics   \n",
              "20655  As millions of dollars of union dues flow into...  left-news   \n",
              "\n",
              "                date  \n",
              "15154   Sep 29, 2015  \n",
              "7624   March 8, 2016  \n",
              "12996   Sep 17, 2016  \n",
              "14424   Feb 25, 2016  \n",
              "20655    May 1, 2016  "
            ],
            "text/html": [
              "\n",
              "  <div id=\"df-e7be178b-0edd-4ff8-849d-8c0e8c79d633\">\n",
              "    <div class=\"colab-df-container\">\n",
              "      <div>\n",
              "<style scoped>\n",
              "    .dataframe tbody tr th:only-of-type {\n",
              "        vertical-align: middle;\n",
              "    }\n",
              "\n",
              "    .dataframe tbody tr th {\n",
              "        vertical-align: top;\n",
              "    }\n",
              "\n",
              "    .dataframe thead th {\n",
              "        text-align: right;\n",
              "    }\n",
              "</style>\n",
              "<table border=\"1\" class=\"dataframe\">\n",
              "  <thead>\n",
              "    <tr style=\"text-align: right;\">\n",
              "      <th></th>\n",
              "      <th>title</th>\n",
              "      <th>text</th>\n",
              "      <th>subject</th>\n",
              "      <th>date</th>\n",
              "    </tr>\n",
              "  </thead>\n",
              "  <tbody>\n",
              "    <tr>\n",
              "      <th>15154</th>\n",
              "      <td>CASTRO IGNORES DISASTROUS COMMUNIST POLICIES T...</td>\n",
              "      <td>If Obama had a communist friend he d be this p...</td>\n",
              "      <td>politics</td>\n",
              "      <td>Sep 29, 2015</td>\n",
              "    </tr>\n",
              "    <tr>\n",
              "      <th>7624</th>\n",
              "      <td>Gun Industry Has NO SHAME In Their PATHETIC S...</td>\n",
              "      <td>While one could argue that the Second Amendmen...</td>\n",
              "      <td>News</td>\n",
              "      <td>March 8, 2016</td>\n",
              "    </tr>\n",
              "    <tr>\n",
              "      <th>12996</th>\n",
              "      <td>STUNNING DEVELOPMENT: OBAMA GIVES $75 MILLION ...</td>\n",
              "      <td>You have got to be kidding me! After all the t...</td>\n",
              "      <td>politics</td>\n",
              "      <td>Sep 17, 2016</td>\n",
              "    </tr>\n",
              "    <tr>\n",
              "      <th>14424</th>\n",
              "      <td>STUNNING! FORMER DISNEY TECH WORKER’S Emotiona...</td>\n",
              "      <td></td>\n",
              "      <td>politics</td>\n",
              "      <td>Feb 25, 2016</td>\n",
              "    </tr>\n",
              "    <tr>\n",
              "      <th>20655</th>\n",
              "      <td>LONG TIME DEMOCRATS, UNION WORKERS Explain Why...</td>\n",
              "      <td>As millions of dollars of union dues flow into...</td>\n",
              "      <td>left-news</td>\n",
              "      <td>May 1, 2016</td>\n",
              "    </tr>\n",
              "  </tbody>\n",
              "</table>\n",
              "</div>\n",
              "      <button class=\"colab-df-convert\" onclick=\"convertToInteractive('df-e7be178b-0edd-4ff8-849d-8c0e8c79d633')\"\n",
              "              title=\"Convert this dataframe to an interactive table.\"\n",
              "              style=\"display:none;\">\n",
              "        \n",
              "  <svg xmlns=\"http://www.w3.org/2000/svg\" height=\"24px\"viewBox=\"0 0 24 24\"\n",
              "       width=\"24px\">\n",
              "    <path d=\"M0 0h24v24H0V0z\" fill=\"none\"/>\n",
              "    <path d=\"M18.56 5.44l.94 2.06.94-2.06 2.06-.94-2.06-.94-.94-2.06-.94 2.06-2.06.94zm-11 1L8.5 8.5l.94-2.06 2.06-.94-2.06-.94L8.5 2.5l-.94 2.06-2.06.94zm10 10l.94 2.06.94-2.06 2.06-.94-2.06-.94-.94-2.06-.94 2.06-2.06.94z\"/><path d=\"M17.41 7.96l-1.37-1.37c-.4-.4-.92-.59-1.43-.59-.52 0-1.04.2-1.43.59L10.3 9.45l-7.72 7.72c-.78.78-.78 2.05 0 2.83L4 21.41c.39.39.9.59 1.41.59.51 0 1.02-.2 1.41-.59l7.78-7.78 2.81-2.81c.8-.78.8-2.07 0-2.86zM5.41 20L4 18.59l7.72-7.72 1.47 1.35L5.41 20z\"/>\n",
              "  </svg>\n",
              "      </button>\n",
              "      \n",
              "  <style>\n",
              "    .colab-df-container {\n",
              "      display:flex;\n",
              "      flex-wrap:wrap;\n",
              "      gap: 12px;\n",
              "    }\n",
              "\n",
              "    .colab-df-convert {\n",
              "      background-color: #E8F0FE;\n",
              "      border: none;\n",
              "      border-radius: 50%;\n",
              "      cursor: pointer;\n",
              "      display: none;\n",
              "      fill: #1967D2;\n",
              "      height: 32px;\n",
              "      padding: 0 0 0 0;\n",
              "      width: 32px;\n",
              "    }\n",
              "\n",
              "    .colab-df-convert:hover {\n",
              "      background-color: #E2EBFA;\n",
              "      box-shadow: 0px 1px 2px rgba(60, 64, 67, 0.3), 0px 1px 3px 1px rgba(60, 64, 67, 0.15);\n",
              "      fill: #174EA6;\n",
              "    }\n",
              "\n",
              "    [theme=dark] .colab-df-convert {\n",
              "      background-color: #3B4455;\n",
              "      fill: #D2E3FC;\n",
              "    }\n",
              "\n",
              "    [theme=dark] .colab-df-convert:hover {\n",
              "      background-color: #434B5C;\n",
              "      box-shadow: 0px 1px 3px 1px rgba(0, 0, 0, 0.15);\n",
              "      filter: drop-shadow(0px 1px 2px rgba(0, 0, 0, 0.3));\n",
              "      fill: #FFFFFF;\n",
              "    }\n",
              "  </style>\n",
              "\n",
              "      <script>\n",
              "        const buttonEl =\n",
              "          document.querySelector('#df-e7be178b-0edd-4ff8-849d-8c0e8c79d633 button.colab-df-convert');\n",
              "        buttonEl.style.display =\n",
              "          google.colab.kernel.accessAllowed ? 'block' : 'none';\n",
              "\n",
              "        async function convertToInteractive(key) {\n",
              "          const element = document.querySelector('#df-e7be178b-0edd-4ff8-849d-8c0e8c79d633');\n",
              "          const dataTable =\n",
              "            await google.colab.kernel.invokeFunction('convertToInteractive',\n",
              "                                                     [key], {});\n",
              "          if (!dataTable) return;\n",
              "\n",
              "          const docLinkHtml = 'Like what you see? Visit the ' +\n",
              "            '<a target=\"_blank\" href=https://colab.research.google.com/notebooks/data_table.ipynb>data table notebook</a>'\n",
              "            + ' to learn more about interactive tables.';\n",
              "          element.innerHTML = '';\n",
              "          dataTable['output_type'] = 'display_data';\n",
              "          await google.colab.output.renderOutput(dataTable, element);\n",
              "          const docLink = document.createElement('div');\n",
              "          docLink.innerHTML = docLinkHtml;\n",
              "          element.appendChild(docLink);\n",
              "        }\n",
              "      </script>\n",
              "    </div>\n",
              "  </div>\n",
              "  "
            ]
          },
          "metadata": {},
          "execution_count": 89
        }
      ]
    },
    {
      "cell_type": "code",
      "source": [
        "truenewspd = truenews.toPandas()\n",
        "truenewspd = truenewspd.sample(n=500,random_state=2)\n",
        "truenewspd.head()"
      ],
      "metadata": {
        "colab": {
          "base_uri": "https://localhost:8080/",
          "height": 206
        },
        "id": "wHGi1ZlYBFLr",
        "outputId": "8631ba8a-0ccb-4236-ab9f-23e8a1c35e38"
      },
      "execution_count": 90,
      "outputs": [
        {
          "output_type": "execute_result",
          "data": {
            "text/plain": [
              "                                                   title  \\\n",
              "6176   'Numerous' arrests made during Trump inaugurat...   \n",
              "8278   Trump calls for new civil rights agenda in vis...   \n",
              "14529  U.S. urges African nations to press North Kore...   \n",
              "10614  Congresswoman quits Democratic National Commit...   \n",
              "2705   Trump, after Senate bill collapses, vows 'grea...   \n",
              "\n",
              "                                                    text       subject  \\\n",
              "6176   WASHINGTON (Reuters) - Washington police made ...  politicsNews   \n",
              "8278   DETROIT (Reuters) - Republican presidential ca...  politicsNews   \n",
              "14529  WASHINGTON (Reuters) - U.S. Secretary of State...     worldnews   \n",
              "10614  WASHINGTON (Reuters) - Democratic National Com...  politicsNews   \n",
              "2705   WASHINGTON (Reuters) - After Republicans’ effo...  politicsNews   \n",
              "\n",
              "                     date  \n",
              "6176    January 20, 2017   \n",
              "8278   September 3, 2016   \n",
              "14529  November 17, 2017   \n",
              "10614  February 28, 2016   \n",
              "2705       July 18, 2017   "
            ],
            "text/html": [
              "\n",
              "  <div id=\"df-2f459d84-a3ba-4dc8-9700-5a8523642336\">\n",
              "    <div class=\"colab-df-container\">\n",
              "      <div>\n",
              "<style scoped>\n",
              "    .dataframe tbody tr th:only-of-type {\n",
              "        vertical-align: middle;\n",
              "    }\n",
              "\n",
              "    .dataframe tbody tr th {\n",
              "        vertical-align: top;\n",
              "    }\n",
              "\n",
              "    .dataframe thead th {\n",
              "        text-align: right;\n",
              "    }\n",
              "</style>\n",
              "<table border=\"1\" class=\"dataframe\">\n",
              "  <thead>\n",
              "    <tr style=\"text-align: right;\">\n",
              "      <th></th>\n",
              "      <th>title</th>\n",
              "      <th>text</th>\n",
              "      <th>subject</th>\n",
              "      <th>date</th>\n",
              "    </tr>\n",
              "  </thead>\n",
              "  <tbody>\n",
              "    <tr>\n",
              "      <th>6176</th>\n",
              "      <td>'Numerous' arrests made during Trump inaugurat...</td>\n",
              "      <td>WASHINGTON (Reuters) - Washington police made ...</td>\n",
              "      <td>politicsNews</td>\n",
              "      <td>January 20, 2017</td>\n",
              "    </tr>\n",
              "    <tr>\n",
              "      <th>8278</th>\n",
              "      <td>Trump calls for new civil rights agenda in vis...</td>\n",
              "      <td>DETROIT (Reuters) - Republican presidential ca...</td>\n",
              "      <td>politicsNews</td>\n",
              "      <td>September 3, 2016</td>\n",
              "    </tr>\n",
              "    <tr>\n",
              "      <th>14529</th>\n",
              "      <td>U.S. urges African nations to press North Kore...</td>\n",
              "      <td>WASHINGTON (Reuters) - U.S. Secretary of State...</td>\n",
              "      <td>worldnews</td>\n",
              "      <td>November 17, 2017</td>\n",
              "    </tr>\n",
              "    <tr>\n",
              "      <th>10614</th>\n",
              "      <td>Congresswoman quits Democratic National Commit...</td>\n",
              "      <td>WASHINGTON (Reuters) - Democratic National Com...</td>\n",
              "      <td>politicsNews</td>\n",
              "      <td>February 28, 2016</td>\n",
              "    </tr>\n",
              "    <tr>\n",
              "      <th>2705</th>\n",
              "      <td>Trump, after Senate bill collapses, vows 'grea...</td>\n",
              "      <td>WASHINGTON (Reuters) - After Republicans’ effo...</td>\n",
              "      <td>politicsNews</td>\n",
              "      <td>July 18, 2017</td>\n",
              "    </tr>\n",
              "  </tbody>\n",
              "</table>\n",
              "</div>\n",
              "      <button class=\"colab-df-convert\" onclick=\"convertToInteractive('df-2f459d84-a3ba-4dc8-9700-5a8523642336')\"\n",
              "              title=\"Convert this dataframe to an interactive table.\"\n",
              "              style=\"display:none;\">\n",
              "        \n",
              "  <svg xmlns=\"http://www.w3.org/2000/svg\" height=\"24px\"viewBox=\"0 0 24 24\"\n",
              "       width=\"24px\">\n",
              "    <path d=\"M0 0h24v24H0V0z\" fill=\"none\"/>\n",
              "    <path d=\"M18.56 5.44l.94 2.06.94-2.06 2.06-.94-2.06-.94-.94-2.06-.94 2.06-2.06.94zm-11 1L8.5 8.5l.94-2.06 2.06-.94-2.06-.94L8.5 2.5l-.94 2.06-2.06.94zm10 10l.94 2.06.94-2.06 2.06-.94-2.06-.94-.94-2.06-.94 2.06-2.06.94z\"/><path d=\"M17.41 7.96l-1.37-1.37c-.4-.4-.92-.59-1.43-.59-.52 0-1.04.2-1.43.59L10.3 9.45l-7.72 7.72c-.78.78-.78 2.05 0 2.83L4 21.41c.39.39.9.59 1.41.59.51 0 1.02-.2 1.41-.59l7.78-7.78 2.81-2.81c.8-.78.8-2.07 0-2.86zM5.41 20L4 18.59l7.72-7.72 1.47 1.35L5.41 20z\"/>\n",
              "  </svg>\n",
              "      </button>\n",
              "      \n",
              "  <style>\n",
              "    .colab-df-container {\n",
              "      display:flex;\n",
              "      flex-wrap:wrap;\n",
              "      gap: 12px;\n",
              "    }\n",
              "\n",
              "    .colab-df-convert {\n",
              "      background-color: #E8F0FE;\n",
              "      border: none;\n",
              "      border-radius: 50%;\n",
              "      cursor: pointer;\n",
              "      display: none;\n",
              "      fill: #1967D2;\n",
              "      height: 32px;\n",
              "      padding: 0 0 0 0;\n",
              "      width: 32px;\n",
              "    }\n",
              "\n",
              "    .colab-df-convert:hover {\n",
              "      background-color: #E2EBFA;\n",
              "      box-shadow: 0px 1px 2px rgba(60, 64, 67, 0.3), 0px 1px 3px 1px rgba(60, 64, 67, 0.15);\n",
              "      fill: #174EA6;\n",
              "    }\n",
              "\n",
              "    [theme=dark] .colab-df-convert {\n",
              "      background-color: #3B4455;\n",
              "      fill: #D2E3FC;\n",
              "    }\n",
              "\n",
              "    [theme=dark] .colab-df-convert:hover {\n",
              "      background-color: #434B5C;\n",
              "      box-shadow: 0px 1px 3px 1px rgba(0, 0, 0, 0.15);\n",
              "      filter: drop-shadow(0px 1px 2px rgba(0, 0, 0, 0.3));\n",
              "      fill: #FFFFFF;\n",
              "    }\n",
              "  </style>\n",
              "\n",
              "      <script>\n",
              "        const buttonEl =\n",
              "          document.querySelector('#df-2f459d84-a3ba-4dc8-9700-5a8523642336 button.colab-df-convert');\n",
              "        buttonEl.style.display =\n",
              "          google.colab.kernel.accessAllowed ? 'block' : 'none';\n",
              "\n",
              "        async function convertToInteractive(key) {\n",
              "          const element = document.querySelector('#df-2f459d84-a3ba-4dc8-9700-5a8523642336');\n",
              "          const dataTable =\n",
              "            await google.colab.kernel.invokeFunction('convertToInteractive',\n",
              "                                                     [key], {});\n",
              "          if (!dataTable) return;\n",
              "\n",
              "          const docLinkHtml = 'Like what you see? Visit the ' +\n",
              "            '<a target=\"_blank\" href=https://colab.research.google.com/notebooks/data_table.ipynb>data table notebook</a>'\n",
              "            + ' to learn more about interactive tables.';\n",
              "          element.innerHTML = '';\n",
              "          dataTable['output_type'] = 'display_data';\n",
              "          await google.colab.output.renderOutput(dataTable, element);\n",
              "          const docLink = document.createElement('div');\n",
              "          docLink.innerHTML = docLinkHtml;\n",
              "          element.appendChild(docLink);\n",
              "        }\n",
              "      </script>\n",
              "    </div>\n",
              "  </div>\n",
              "  "
            ]
          },
          "metadata": {},
          "execution_count": 90
        }
      ]
    },
    {
      "cell_type": "code",
      "source": [
        "#Adding newstype column to both the dataframes\n",
        "fakenewspd[\"newstype\"] = [\"fake\"]*len(fakenewspd)"
      ],
      "metadata": {
        "id": "AfWcBNO9C8-F"
      },
      "execution_count": 91,
      "outputs": []
    },
    {
      "cell_type": "code",
      "source": [
        "fakenewspd.head()"
      ],
      "metadata": {
        "colab": {
          "base_uri": "https://localhost:8080/",
          "height": 206
        },
        "id": "hvZxpoH0DDlb",
        "outputId": "170b5f6a-7fda-4a68-fb59-f5945c509d78"
      },
      "execution_count": 92,
      "outputs": [
        {
          "output_type": "execute_result",
          "data": {
            "text/plain": [
              "                                                   title  \\\n",
              "15154  CASTRO IGNORES DISASTROUS COMMUNIST POLICIES T...   \n",
              "7624    Gun Industry Has NO SHAME In Their PATHETIC S...   \n",
              "12996  STUNNING DEVELOPMENT: OBAMA GIVES $75 MILLION ...   \n",
              "14424  STUNNING! FORMER DISNEY TECH WORKER’S Emotiona...   \n",
              "20655  LONG TIME DEMOCRATS, UNION WORKERS Explain Why...   \n",
              "\n",
              "                                                    text    subject  \\\n",
              "15154  If Obama had a communist friend he d be this p...   politics   \n",
              "7624   While one could argue that the Second Amendmen...       News   \n",
              "12996  You have got to be kidding me! After all the t...   politics   \n",
              "14424                                                      politics   \n",
              "20655  As millions of dollars of union dues flow into...  left-news   \n",
              "\n",
              "                date newstype  \n",
              "15154   Sep 29, 2015     fake  \n",
              "7624   March 8, 2016     fake  \n",
              "12996   Sep 17, 2016     fake  \n",
              "14424   Feb 25, 2016     fake  \n",
              "20655    May 1, 2016     fake  "
            ],
            "text/html": [
              "\n",
              "  <div id=\"df-76e00c1e-0e65-47c3-b320-5f5bc8bbdf29\">\n",
              "    <div class=\"colab-df-container\">\n",
              "      <div>\n",
              "<style scoped>\n",
              "    .dataframe tbody tr th:only-of-type {\n",
              "        vertical-align: middle;\n",
              "    }\n",
              "\n",
              "    .dataframe tbody tr th {\n",
              "        vertical-align: top;\n",
              "    }\n",
              "\n",
              "    .dataframe thead th {\n",
              "        text-align: right;\n",
              "    }\n",
              "</style>\n",
              "<table border=\"1\" class=\"dataframe\">\n",
              "  <thead>\n",
              "    <tr style=\"text-align: right;\">\n",
              "      <th></th>\n",
              "      <th>title</th>\n",
              "      <th>text</th>\n",
              "      <th>subject</th>\n",
              "      <th>date</th>\n",
              "      <th>newstype</th>\n",
              "    </tr>\n",
              "  </thead>\n",
              "  <tbody>\n",
              "    <tr>\n",
              "      <th>15154</th>\n",
              "      <td>CASTRO IGNORES DISASTROUS COMMUNIST POLICIES T...</td>\n",
              "      <td>If Obama had a communist friend he d be this p...</td>\n",
              "      <td>politics</td>\n",
              "      <td>Sep 29, 2015</td>\n",
              "      <td>fake</td>\n",
              "    </tr>\n",
              "    <tr>\n",
              "      <th>7624</th>\n",
              "      <td>Gun Industry Has NO SHAME In Their PATHETIC S...</td>\n",
              "      <td>While one could argue that the Second Amendmen...</td>\n",
              "      <td>News</td>\n",
              "      <td>March 8, 2016</td>\n",
              "      <td>fake</td>\n",
              "    </tr>\n",
              "    <tr>\n",
              "      <th>12996</th>\n",
              "      <td>STUNNING DEVELOPMENT: OBAMA GIVES $75 MILLION ...</td>\n",
              "      <td>You have got to be kidding me! After all the t...</td>\n",
              "      <td>politics</td>\n",
              "      <td>Sep 17, 2016</td>\n",
              "      <td>fake</td>\n",
              "    </tr>\n",
              "    <tr>\n",
              "      <th>14424</th>\n",
              "      <td>STUNNING! FORMER DISNEY TECH WORKER’S Emotiona...</td>\n",
              "      <td></td>\n",
              "      <td>politics</td>\n",
              "      <td>Feb 25, 2016</td>\n",
              "      <td>fake</td>\n",
              "    </tr>\n",
              "    <tr>\n",
              "      <th>20655</th>\n",
              "      <td>LONG TIME DEMOCRATS, UNION WORKERS Explain Why...</td>\n",
              "      <td>As millions of dollars of union dues flow into...</td>\n",
              "      <td>left-news</td>\n",
              "      <td>May 1, 2016</td>\n",
              "      <td>fake</td>\n",
              "    </tr>\n",
              "  </tbody>\n",
              "</table>\n",
              "</div>\n",
              "      <button class=\"colab-df-convert\" onclick=\"convertToInteractive('df-76e00c1e-0e65-47c3-b320-5f5bc8bbdf29')\"\n",
              "              title=\"Convert this dataframe to an interactive table.\"\n",
              "              style=\"display:none;\">\n",
              "        \n",
              "  <svg xmlns=\"http://www.w3.org/2000/svg\" height=\"24px\"viewBox=\"0 0 24 24\"\n",
              "       width=\"24px\">\n",
              "    <path d=\"M0 0h24v24H0V0z\" fill=\"none\"/>\n",
              "    <path d=\"M18.56 5.44l.94 2.06.94-2.06 2.06-.94-2.06-.94-.94-2.06-.94 2.06-2.06.94zm-11 1L8.5 8.5l.94-2.06 2.06-.94-2.06-.94L8.5 2.5l-.94 2.06-2.06.94zm10 10l.94 2.06.94-2.06 2.06-.94-2.06-.94-.94-2.06-.94 2.06-2.06.94z\"/><path d=\"M17.41 7.96l-1.37-1.37c-.4-.4-.92-.59-1.43-.59-.52 0-1.04.2-1.43.59L10.3 9.45l-7.72 7.72c-.78.78-.78 2.05 0 2.83L4 21.41c.39.39.9.59 1.41.59.51 0 1.02-.2 1.41-.59l7.78-7.78 2.81-2.81c.8-.78.8-2.07 0-2.86zM5.41 20L4 18.59l7.72-7.72 1.47 1.35L5.41 20z\"/>\n",
              "  </svg>\n",
              "      </button>\n",
              "      \n",
              "  <style>\n",
              "    .colab-df-container {\n",
              "      display:flex;\n",
              "      flex-wrap:wrap;\n",
              "      gap: 12px;\n",
              "    }\n",
              "\n",
              "    .colab-df-convert {\n",
              "      background-color: #E8F0FE;\n",
              "      border: none;\n",
              "      border-radius: 50%;\n",
              "      cursor: pointer;\n",
              "      display: none;\n",
              "      fill: #1967D2;\n",
              "      height: 32px;\n",
              "      padding: 0 0 0 0;\n",
              "      width: 32px;\n",
              "    }\n",
              "\n",
              "    .colab-df-convert:hover {\n",
              "      background-color: #E2EBFA;\n",
              "      box-shadow: 0px 1px 2px rgba(60, 64, 67, 0.3), 0px 1px 3px 1px rgba(60, 64, 67, 0.15);\n",
              "      fill: #174EA6;\n",
              "    }\n",
              "\n",
              "    [theme=dark] .colab-df-convert {\n",
              "      background-color: #3B4455;\n",
              "      fill: #D2E3FC;\n",
              "    }\n",
              "\n",
              "    [theme=dark] .colab-df-convert:hover {\n",
              "      background-color: #434B5C;\n",
              "      box-shadow: 0px 1px 3px 1px rgba(0, 0, 0, 0.15);\n",
              "      filter: drop-shadow(0px 1px 2px rgba(0, 0, 0, 0.3));\n",
              "      fill: #FFFFFF;\n",
              "    }\n",
              "  </style>\n",
              "\n",
              "      <script>\n",
              "        const buttonEl =\n",
              "          document.querySelector('#df-76e00c1e-0e65-47c3-b320-5f5bc8bbdf29 button.colab-df-convert');\n",
              "        buttonEl.style.display =\n",
              "          google.colab.kernel.accessAllowed ? 'block' : 'none';\n",
              "\n",
              "        async function convertToInteractive(key) {\n",
              "          const element = document.querySelector('#df-76e00c1e-0e65-47c3-b320-5f5bc8bbdf29');\n",
              "          const dataTable =\n",
              "            await google.colab.kernel.invokeFunction('convertToInteractive',\n",
              "                                                     [key], {});\n",
              "          if (!dataTable) return;\n",
              "\n",
              "          const docLinkHtml = 'Like what you see? Visit the ' +\n",
              "            '<a target=\"_blank\" href=https://colab.research.google.com/notebooks/data_table.ipynb>data table notebook</a>'\n",
              "            + ' to learn more about interactive tables.';\n",
              "          element.innerHTML = '';\n",
              "          dataTable['output_type'] = 'display_data';\n",
              "          await google.colab.output.renderOutput(dataTable, element);\n",
              "          const docLink = document.createElement('div');\n",
              "          docLink.innerHTML = docLinkHtml;\n",
              "          element.appendChild(docLink);\n",
              "        }\n",
              "      </script>\n",
              "    </div>\n",
              "  </div>\n",
              "  "
            ]
          },
          "metadata": {},
          "execution_count": 92
        }
      ]
    },
    {
      "cell_type": "code",
      "source": [
        "truenewspd[\"newstype\"] = [\"true\"]*len(truenewspd)"
      ],
      "metadata": {
        "id": "0HLyco6iBFAr"
      },
      "execution_count": 93,
      "outputs": []
    },
    {
      "cell_type": "code",
      "source": [
        "truenewspd.head()"
      ],
      "metadata": {
        "colab": {
          "base_uri": "https://localhost:8080/",
          "height": 206
        },
        "id": "YdTp6tbnBE4S",
        "outputId": "8d399f26-5525-42f2-d879-3039fc89fa0a"
      },
      "execution_count": 94,
      "outputs": [
        {
          "output_type": "execute_result",
          "data": {
            "text/plain": [
              "                                                   title  \\\n",
              "6176   'Numerous' arrests made during Trump inaugurat...   \n",
              "8278   Trump calls for new civil rights agenda in vis...   \n",
              "14529  U.S. urges African nations to press North Kore...   \n",
              "10614  Congresswoman quits Democratic National Commit...   \n",
              "2705   Trump, after Senate bill collapses, vows 'grea...   \n",
              "\n",
              "                                                    text       subject  \\\n",
              "6176   WASHINGTON (Reuters) - Washington police made ...  politicsNews   \n",
              "8278   DETROIT (Reuters) - Republican presidential ca...  politicsNews   \n",
              "14529  WASHINGTON (Reuters) - U.S. Secretary of State...     worldnews   \n",
              "10614  WASHINGTON (Reuters) - Democratic National Com...  politicsNews   \n",
              "2705   WASHINGTON (Reuters) - After Republicans’ effo...  politicsNews   \n",
              "\n",
              "                     date newstype  \n",
              "6176    January 20, 2017      true  \n",
              "8278   September 3, 2016      true  \n",
              "14529  November 17, 2017      true  \n",
              "10614  February 28, 2016      true  \n",
              "2705       July 18, 2017      true  "
            ],
            "text/html": [
              "\n",
              "  <div id=\"df-8b299738-1cb6-4152-b0a8-8eb43ef29909\">\n",
              "    <div class=\"colab-df-container\">\n",
              "      <div>\n",
              "<style scoped>\n",
              "    .dataframe tbody tr th:only-of-type {\n",
              "        vertical-align: middle;\n",
              "    }\n",
              "\n",
              "    .dataframe tbody tr th {\n",
              "        vertical-align: top;\n",
              "    }\n",
              "\n",
              "    .dataframe thead th {\n",
              "        text-align: right;\n",
              "    }\n",
              "</style>\n",
              "<table border=\"1\" class=\"dataframe\">\n",
              "  <thead>\n",
              "    <tr style=\"text-align: right;\">\n",
              "      <th></th>\n",
              "      <th>title</th>\n",
              "      <th>text</th>\n",
              "      <th>subject</th>\n",
              "      <th>date</th>\n",
              "      <th>newstype</th>\n",
              "    </tr>\n",
              "  </thead>\n",
              "  <tbody>\n",
              "    <tr>\n",
              "      <th>6176</th>\n",
              "      <td>'Numerous' arrests made during Trump inaugurat...</td>\n",
              "      <td>WASHINGTON (Reuters) - Washington police made ...</td>\n",
              "      <td>politicsNews</td>\n",
              "      <td>January 20, 2017</td>\n",
              "      <td>true</td>\n",
              "    </tr>\n",
              "    <tr>\n",
              "      <th>8278</th>\n",
              "      <td>Trump calls for new civil rights agenda in vis...</td>\n",
              "      <td>DETROIT (Reuters) - Republican presidential ca...</td>\n",
              "      <td>politicsNews</td>\n",
              "      <td>September 3, 2016</td>\n",
              "      <td>true</td>\n",
              "    </tr>\n",
              "    <tr>\n",
              "      <th>14529</th>\n",
              "      <td>U.S. urges African nations to press North Kore...</td>\n",
              "      <td>WASHINGTON (Reuters) - U.S. Secretary of State...</td>\n",
              "      <td>worldnews</td>\n",
              "      <td>November 17, 2017</td>\n",
              "      <td>true</td>\n",
              "    </tr>\n",
              "    <tr>\n",
              "      <th>10614</th>\n",
              "      <td>Congresswoman quits Democratic National Commit...</td>\n",
              "      <td>WASHINGTON (Reuters) - Democratic National Com...</td>\n",
              "      <td>politicsNews</td>\n",
              "      <td>February 28, 2016</td>\n",
              "      <td>true</td>\n",
              "    </tr>\n",
              "    <tr>\n",
              "      <th>2705</th>\n",
              "      <td>Trump, after Senate bill collapses, vows 'grea...</td>\n",
              "      <td>WASHINGTON (Reuters) - After Republicans’ effo...</td>\n",
              "      <td>politicsNews</td>\n",
              "      <td>July 18, 2017</td>\n",
              "      <td>true</td>\n",
              "    </tr>\n",
              "  </tbody>\n",
              "</table>\n",
              "</div>\n",
              "      <button class=\"colab-df-convert\" onclick=\"convertToInteractive('df-8b299738-1cb6-4152-b0a8-8eb43ef29909')\"\n",
              "              title=\"Convert this dataframe to an interactive table.\"\n",
              "              style=\"display:none;\">\n",
              "        \n",
              "  <svg xmlns=\"http://www.w3.org/2000/svg\" height=\"24px\"viewBox=\"0 0 24 24\"\n",
              "       width=\"24px\">\n",
              "    <path d=\"M0 0h24v24H0V0z\" fill=\"none\"/>\n",
              "    <path d=\"M18.56 5.44l.94 2.06.94-2.06 2.06-.94-2.06-.94-.94-2.06-.94 2.06-2.06.94zm-11 1L8.5 8.5l.94-2.06 2.06-.94-2.06-.94L8.5 2.5l-.94 2.06-2.06.94zm10 10l.94 2.06.94-2.06 2.06-.94-2.06-.94-.94-2.06-.94 2.06-2.06.94z\"/><path d=\"M17.41 7.96l-1.37-1.37c-.4-.4-.92-.59-1.43-.59-.52 0-1.04.2-1.43.59L10.3 9.45l-7.72 7.72c-.78.78-.78 2.05 0 2.83L4 21.41c.39.39.9.59 1.41.59.51 0 1.02-.2 1.41-.59l7.78-7.78 2.81-2.81c.8-.78.8-2.07 0-2.86zM5.41 20L4 18.59l7.72-7.72 1.47 1.35L5.41 20z\"/>\n",
              "  </svg>\n",
              "      </button>\n",
              "      \n",
              "  <style>\n",
              "    .colab-df-container {\n",
              "      display:flex;\n",
              "      flex-wrap:wrap;\n",
              "      gap: 12px;\n",
              "    }\n",
              "\n",
              "    .colab-df-convert {\n",
              "      background-color: #E8F0FE;\n",
              "      border: none;\n",
              "      border-radius: 50%;\n",
              "      cursor: pointer;\n",
              "      display: none;\n",
              "      fill: #1967D2;\n",
              "      height: 32px;\n",
              "      padding: 0 0 0 0;\n",
              "      width: 32px;\n",
              "    }\n",
              "\n",
              "    .colab-df-convert:hover {\n",
              "      background-color: #E2EBFA;\n",
              "      box-shadow: 0px 1px 2px rgba(60, 64, 67, 0.3), 0px 1px 3px 1px rgba(60, 64, 67, 0.15);\n",
              "      fill: #174EA6;\n",
              "    }\n",
              "\n",
              "    [theme=dark] .colab-df-convert {\n",
              "      background-color: #3B4455;\n",
              "      fill: #D2E3FC;\n",
              "    }\n",
              "\n",
              "    [theme=dark] .colab-df-convert:hover {\n",
              "      background-color: #434B5C;\n",
              "      box-shadow: 0px 1px 3px 1px rgba(0, 0, 0, 0.15);\n",
              "      filter: drop-shadow(0px 1px 2px rgba(0, 0, 0, 0.3));\n",
              "      fill: #FFFFFF;\n",
              "    }\n",
              "  </style>\n",
              "\n",
              "      <script>\n",
              "        const buttonEl =\n",
              "          document.querySelector('#df-8b299738-1cb6-4152-b0a8-8eb43ef29909 button.colab-df-convert');\n",
              "        buttonEl.style.display =\n",
              "          google.colab.kernel.accessAllowed ? 'block' : 'none';\n",
              "\n",
              "        async function convertToInteractive(key) {\n",
              "          const element = document.querySelector('#df-8b299738-1cb6-4152-b0a8-8eb43ef29909');\n",
              "          const dataTable =\n",
              "            await google.colab.kernel.invokeFunction('convertToInteractive',\n",
              "                                                     [key], {});\n",
              "          if (!dataTable) return;\n",
              "\n",
              "          const docLinkHtml = 'Like what you see? Visit the ' +\n",
              "            '<a target=\"_blank\" href=https://colab.research.google.com/notebooks/data_table.ipynb>data table notebook</a>'\n",
              "            + ' to learn more about interactive tables.';\n",
              "          element.innerHTML = '';\n",
              "          dataTable['output_type'] = 'display_data';\n",
              "          await google.colab.output.renderOutput(dataTable, element);\n",
              "          const docLink = document.createElement('div');\n",
              "          docLink.innerHTML = docLinkHtml;\n",
              "          element.appendChild(docLink);\n",
              "        }\n",
              "      </script>\n",
              "    </div>\n",
              "  </div>\n",
              "  "
            ]
          },
          "metadata": {},
          "execution_count": 94
        }
      ]
    },
    {
      "cell_type": "code",
      "source": [
        "#Joining both the dataframes as a single dataframe\n",
        "news = pd.concat([fakenewspd,truenewspd])"
      ],
      "metadata": {
        "id": "zCh3qKhSBE1l"
      },
      "execution_count": 95,
      "outputs": []
    },
    {
      "cell_type": "code",
      "source": [
        "news.head()"
      ],
      "metadata": {
        "colab": {
          "base_uri": "https://localhost:8080/",
          "height": 206
        },
        "id": "az_4u0TbBEyi",
        "outputId": "4bb17a38-82df-4e7d-874c-d7bba02a055e"
      },
      "execution_count": 96,
      "outputs": [
        {
          "output_type": "execute_result",
          "data": {
            "text/plain": [
              "                                                   title  \\\n",
              "15154  CASTRO IGNORES DISASTROUS COMMUNIST POLICIES T...   \n",
              "7624    Gun Industry Has NO SHAME In Their PATHETIC S...   \n",
              "12996  STUNNING DEVELOPMENT: OBAMA GIVES $75 MILLION ...   \n",
              "14424  STUNNING! FORMER DISNEY TECH WORKER’S Emotiona...   \n",
              "20655  LONG TIME DEMOCRATS, UNION WORKERS Explain Why...   \n",
              "\n",
              "                                                    text    subject  \\\n",
              "15154  If Obama had a communist friend he d be this p...   politics   \n",
              "7624   While one could argue that the Second Amendmen...       News   \n",
              "12996  You have got to be kidding me! After all the t...   politics   \n",
              "14424                                                      politics   \n",
              "20655  As millions of dollars of union dues flow into...  left-news   \n",
              "\n",
              "                date newstype  \n",
              "15154   Sep 29, 2015     fake  \n",
              "7624   March 8, 2016     fake  \n",
              "12996   Sep 17, 2016     fake  \n",
              "14424   Feb 25, 2016     fake  \n",
              "20655    May 1, 2016     fake  "
            ],
            "text/html": [
              "\n",
              "  <div id=\"df-1ac48d45-b2e7-42bc-8208-9a9ef9446e89\">\n",
              "    <div class=\"colab-df-container\">\n",
              "      <div>\n",
              "<style scoped>\n",
              "    .dataframe tbody tr th:only-of-type {\n",
              "        vertical-align: middle;\n",
              "    }\n",
              "\n",
              "    .dataframe tbody tr th {\n",
              "        vertical-align: top;\n",
              "    }\n",
              "\n",
              "    .dataframe thead th {\n",
              "        text-align: right;\n",
              "    }\n",
              "</style>\n",
              "<table border=\"1\" class=\"dataframe\">\n",
              "  <thead>\n",
              "    <tr style=\"text-align: right;\">\n",
              "      <th></th>\n",
              "      <th>title</th>\n",
              "      <th>text</th>\n",
              "      <th>subject</th>\n",
              "      <th>date</th>\n",
              "      <th>newstype</th>\n",
              "    </tr>\n",
              "  </thead>\n",
              "  <tbody>\n",
              "    <tr>\n",
              "      <th>15154</th>\n",
              "      <td>CASTRO IGNORES DISASTROUS COMMUNIST POLICIES T...</td>\n",
              "      <td>If Obama had a communist friend he d be this p...</td>\n",
              "      <td>politics</td>\n",
              "      <td>Sep 29, 2015</td>\n",
              "      <td>fake</td>\n",
              "    </tr>\n",
              "    <tr>\n",
              "      <th>7624</th>\n",
              "      <td>Gun Industry Has NO SHAME In Their PATHETIC S...</td>\n",
              "      <td>While one could argue that the Second Amendmen...</td>\n",
              "      <td>News</td>\n",
              "      <td>March 8, 2016</td>\n",
              "      <td>fake</td>\n",
              "    </tr>\n",
              "    <tr>\n",
              "      <th>12996</th>\n",
              "      <td>STUNNING DEVELOPMENT: OBAMA GIVES $75 MILLION ...</td>\n",
              "      <td>You have got to be kidding me! After all the t...</td>\n",
              "      <td>politics</td>\n",
              "      <td>Sep 17, 2016</td>\n",
              "      <td>fake</td>\n",
              "    </tr>\n",
              "    <tr>\n",
              "      <th>14424</th>\n",
              "      <td>STUNNING! FORMER DISNEY TECH WORKER’S Emotiona...</td>\n",
              "      <td></td>\n",
              "      <td>politics</td>\n",
              "      <td>Feb 25, 2016</td>\n",
              "      <td>fake</td>\n",
              "    </tr>\n",
              "    <tr>\n",
              "      <th>20655</th>\n",
              "      <td>LONG TIME DEMOCRATS, UNION WORKERS Explain Why...</td>\n",
              "      <td>As millions of dollars of union dues flow into...</td>\n",
              "      <td>left-news</td>\n",
              "      <td>May 1, 2016</td>\n",
              "      <td>fake</td>\n",
              "    </tr>\n",
              "  </tbody>\n",
              "</table>\n",
              "</div>\n",
              "      <button class=\"colab-df-convert\" onclick=\"convertToInteractive('df-1ac48d45-b2e7-42bc-8208-9a9ef9446e89')\"\n",
              "              title=\"Convert this dataframe to an interactive table.\"\n",
              "              style=\"display:none;\">\n",
              "        \n",
              "  <svg xmlns=\"http://www.w3.org/2000/svg\" height=\"24px\"viewBox=\"0 0 24 24\"\n",
              "       width=\"24px\">\n",
              "    <path d=\"M0 0h24v24H0V0z\" fill=\"none\"/>\n",
              "    <path d=\"M18.56 5.44l.94 2.06.94-2.06 2.06-.94-2.06-.94-.94-2.06-.94 2.06-2.06.94zm-11 1L8.5 8.5l.94-2.06 2.06-.94-2.06-.94L8.5 2.5l-.94 2.06-2.06.94zm10 10l.94 2.06.94-2.06 2.06-.94-2.06-.94-.94-2.06-.94 2.06-2.06.94z\"/><path d=\"M17.41 7.96l-1.37-1.37c-.4-.4-.92-.59-1.43-.59-.52 0-1.04.2-1.43.59L10.3 9.45l-7.72 7.72c-.78.78-.78 2.05 0 2.83L4 21.41c.39.39.9.59 1.41.59.51 0 1.02-.2 1.41-.59l7.78-7.78 2.81-2.81c.8-.78.8-2.07 0-2.86zM5.41 20L4 18.59l7.72-7.72 1.47 1.35L5.41 20z\"/>\n",
              "  </svg>\n",
              "      </button>\n",
              "      \n",
              "  <style>\n",
              "    .colab-df-container {\n",
              "      display:flex;\n",
              "      flex-wrap:wrap;\n",
              "      gap: 12px;\n",
              "    }\n",
              "\n",
              "    .colab-df-convert {\n",
              "      background-color: #E8F0FE;\n",
              "      border: none;\n",
              "      border-radius: 50%;\n",
              "      cursor: pointer;\n",
              "      display: none;\n",
              "      fill: #1967D2;\n",
              "      height: 32px;\n",
              "      padding: 0 0 0 0;\n",
              "      width: 32px;\n",
              "    }\n",
              "\n",
              "    .colab-df-convert:hover {\n",
              "      background-color: #E2EBFA;\n",
              "      box-shadow: 0px 1px 2px rgba(60, 64, 67, 0.3), 0px 1px 3px 1px rgba(60, 64, 67, 0.15);\n",
              "      fill: #174EA6;\n",
              "    }\n",
              "\n",
              "    [theme=dark] .colab-df-convert {\n",
              "      background-color: #3B4455;\n",
              "      fill: #D2E3FC;\n",
              "    }\n",
              "\n",
              "    [theme=dark] .colab-df-convert:hover {\n",
              "      background-color: #434B5C;\n",
              "      box-shadow: 0px 1px 3px 1px rgba(0, 0, 0, 0.15);\n",
              "      filter: drop-shadow(0px 1px 2px rgba(0, 0, 0, 0.3));\n",
              "      fill: #FFFFFF;\n",
              "    }\n",
              "  </style>\n",
              "\n",
              "      <script>\n",
              "        const buttonEl =\n",
              "          document.querySelector('#df-1ac48d45-b2e7-42bc-8208-9a9ef9446e89 button.colab-df-convert');\n",
              "        buttonEl.style.display =\n",
              "          google.colab.kernel.accessAllowed ? 'block' : 'none';\n",
              "\n",
              "        async function convertToInteractive(key) {\n",
              "          const element = document.querySelector('#df-1ac48d45-b2e7-42bc-8208-9a9ef9446e89');\n",
              "          const dataTable =\n",
              "            await google.colab.kernel.invokeFunction('convertToInteractive',\n",
              "                                                     [key], {});\n",
              "          if (!dataTable) return;\n",
              "\n",
              "          const docLinkHtml = 'Like what you see? Visit the ' +\n",
              "            '<a target=\"_blank\" href=https://colab.research.google.com/notebooks/data_table.ipynb>data table notebook</a>'\n",
              "            + ' to learn more about interactive tables.';\n",
              "          element.innerHTML = '';\n",
              "          dataTable['output_type'] = 'display_data';\n",
              "          await google.colab.output.renderOutput(dataTable, element);\n",
              "          const docLink = document.createElement('div');\n",
              "          docLink.innerHTML = docLinkHtml;\n",
              "          element.appendChild(docLink);\n",
              "        }\n",
              "      </script>\n",
              "    </div>\n",
              "  </div>\n",
              "  "
            ]
          },
          "metadata": {},
          "execution_count": 96
        }
      ]
    },
    {
      "cell_type": "code",
      "source": [
        "news['newstype'].value_counts()"
      ],
      "metadata": {
        "colab": {
          "base_uri": "https://localhost:8080/"
        },
        "id": "dh8sDC5SGiGu",
        "outputId": "04a74856-d526-4984-fa0b-369a0b2de258"
      },
      "execution_count": 97,
      "outputs": [
        {
          "output_type": "execute_result",
          "data": {
            "text/plain": [
              "fake    500\n",
              "true    500\n",
              "Name: newstype, dtype: int64"
            ]
          },
          "metadata": {},
          "execution_count": 97
        }
      ]
    },
    {
      "cell_type": "code",
      "source": [
        "#Adding a column - \"Fake\", which has boolean values. 1 if news is fake and 0 if news is true\n",
        "news['fake'] = news['newstype'].apply(lambda x : 1 if x == \"fake\" else 0)"
      ],
      "metadata": {
        "id": "IDQttmr9HsA7"
      },
      "execution_count": 98,
      "outputs": []
    },
    {
      "cell_type": "code",
      "source": [
        "news.head()"
      ],
      "metadata": {
        "colab": {
          "base_uri": "https://localhost:8080/",
          "height": 206
        },
        "id": "-s5EPnh5IVyZ",
        "outputId": "f1c00769-e8a8-4882-f7b3-5507cc4d47b9"
      },
      "execution_count": 99,
      "outputs": [
        {
          "output_type": "execute_result",
          "data": {
            "text/plain": [
              "                                                   title  \\\n",
              "15154  CASTRO IGNORES DISASTROUS COMMUNIST POLICIES T...   \n",
              "7624    Gun Industry Has NO SHAME In Their PATHETIC S...   \n",
              "12996  STUNNING DEVELOPMENT: OBAMA GIVES $75 MILLION ...   \n",
              "14424  STUNNING! FORMER DISNEY TECH WORKER’S Emotiona...   \n",
              "20655  LONG TIME DEMOCRATS, UNION WORKERS Explain Why...   \n",
              "\n",
              "                                                    text    subject  \\\n",
              "15154  If Obama had a communist friend he d be this p...   politics   \n",
              "7624   While one could argue that the Second Amendmen...       News   \n",
              "12996  You have got to be kidding me! After all the t...   politics   \n",
              "14424                                                      politics   \n",
              "20655  As millions of dollars of union dues flow into...  left-news   \n",
              "\n",
              "                date newstype  fake  \n",
              "15154   Sep 29, 2015     fake     1  \n",
              "7624   March 8, 2016     fake     1  \n",
              "12996   Sep 17, 2016     fake     1  \n",
              "14424   Feb 25, 2016     fake     1  \n",
              "20655    May 1, 2016     fake     1  "
            ],
            "text/html": [
              "\n",
              "  <div id=\"df-bf819d8e-9394-4b5a-8e88-737b061d248c\">\n",
              "    <div class=\"colab-df-container\">\n",
              "      <div>\n",
              "<style scoped>\n",
              "    .dataframe tbody tr th:only-of-type {\n",
              "        vertical-align: middle;\n",
              "    }\n",
              "\n",
              "    .dataframe tbody tr th {\n",
              "        vertical-align: top;\n",
              "    }\n",
              "\n",
              "    .dataframe thead th {\n",
              "        text-align: right;\n",
              "    }\n",
              "</style>\n",
              "<table border=\"1\" class=\"dataframe\">\n",
              "  <thead>\n",
              "    <tr style=\"text-align: right;\">\n",
              "      <th></th>\n",
              "      <th>title</th>\n",
              "      <th>text</th>\n",
              "      <th>subject</th>\n",
              "      <th>date</th>\n",
              "      <th>newstype</th>\n",
              "      <th>fake</th>\n",
              "    </tr>\n",
              "  </thead>\n",
              "  <tbody>\n",
              "    <tr>\n",
              "      <th>15154</th>\n",
              "      <td>CASTRO IGNORES DISASTROUS COMMUNIST POLICIES T...</td>\n",
              "      <td>If Obama had a communist friend he d be this p...</td>\n",
              "      <td>politics</td>\n",
              "      <td>Sep 29, 2015</td>\n",
              "      <td>fake</td>\n",
              "      <td>1</td>\n",
              "    </tr>\n",
              "    <tr>\n",
              "      <th>7624</th>\n",
              "      <td>Gun Industry Has NO SHAME In Their PATHETIC S...</td>\n",
              "      <td>While one could argue that the Second Amendmen...</td>\n",
              "      <td>News</td>\n",
              "      <td>March 8, 2016</td>\n",
              "      <td>fake</td>\n",
              "      <td>1</td>\n",
              "    </tr>\n",
              "    <tr>\n",
              "      <th>12996</th>\n",
              "      <td>STUNNING DEVELOPMENT: OBAMA GIVES $75 MILLION ...</td>\n",
              "      <td>You have got to be kidding me! After all the t...</td>\n",
              "      <td>politics</td>\n",
              "      <td>Sep 17, 2016</td>\n",
              "      <td>fake</td>\n",
              "      <td>1</td>\n",
              "    </tr>\n",
              "    <tr>\n",
              "      <th>14424</th>\n",
              "      <td>STUNNING! FORMER DISNEY TECH WORKER’S Emotiona...</td>\n",
              "      <td></td>\n",
              "      <td>politics</td>\n",
              "      <td>Feb 25, 2016</td>\n",
              "      <td>fake</td>\n",
              "      <td>1</td>\n",
              "    </tr>\n",
              "    <tr>\n",
              "      <th>20655</th>\n",
              "      <td>LONG TIME DEMOCRATS, UNION WORKERS Explain Why...</td>\n",
              "      <td>As millions of dollars of union dues flow into...</td>\n",
              "      <td>left-news</td>\n",
              "      <td>May 1, 2016</td>\n",
              "      <td>fake</td>\n",
              "      <td>1</td>\n",
              "    </tr>\n",
              "  </tbody>\n",
              "</table>\n",
              "</div>\n",
              "      <button class=\"colab-df-convert\" onclick=\"convertToInteractive('df-bf819d8e-9394-4b5a-8e88-737b061d248c')\"\n",
              "              title=\"Convert this dataframe to an interactive table.\"\n",
              "              style=\"display:none;\">\n",
              "        \n",
              "  <svg xmlns=\"http://www.w3.org/2000/svg\" height=\"24px\"viewBox=\"0 0 24 24\"\n",
              "       width=\"24px\">\n",
              "    <path d=\"M0 0h24v24H0V0z\" fill=\"none\"/>\n",
              "    <path d=\"M18.56 5.44l.94 2.06.94-2.06 2.06-.94-2.06-.94-.94-2.06-.94 2.06-2.06.94zm-11 1L8.5 8.5l.94-2.06 2.06-.94-2.06-.94L8.5 2.5l-.94 2.06-2.06.94zm10 10l.94 2.06.94-2.06 2.06-.94-2.06-.94-.94-2.06-.94 2.06-2.06.94z\"/><path d=\"M17.41 7.96l-1.37-1.37c-.4-.4-.92-.59-1.43-.59-.52 0-1.04.2-1.43.59L10.3 9.45l-7.72 7.72c-.78.78-.78 2.05 0 2.83L4 21.41c.39.39.9.59 1.41.59.51 0 1.02-.2 1.41-.59l7.78-7.78 2.81-2.81c.8-.78.8-2.07 0-2.86zM5.41 20L4 18.59l7.72-7.72 1.47 1.35L5.41 20z\"/>\n",
              "  </svg>\n",
              "      </button>\n",
              "      \n",
              "  <style>\n",
              "    .colab-df-container {\n",
              "      display:flex;\n",
              "      flex-wrap:wrap;\n",
              "      gap: 12px;\n",
              "    }\n",
              "\n",
              "    .colab-df-convert {\n",
              "      background-color: #E8F0FE;\n",
              "      border: none;\n",
              "      border-radius: 50%;\n",
              "      cursor: pointer;\n",
              "      display: none;\n",
              "      fill: #1967D2;\n",
              "      height: 32px;\n",
              "      padding: 0 0 0 0;\n",
              "      width: 32px;\n",
              "    }\n",
              "\n",
              "    .colab-df-convert:hover {\n",
              "      background-color: #E2EBFA;\n",
              "      box-shadow: 0px 1px 2px rgba(60, 64, 67, 0.3), 0px 1px 3px 1px rgba(60, 64, 67, 0.15);\n",
              "      fill: #174EA6;\n",
              "    }\n",
              "\n",
              "    [theme=dark] .colab-df-convert {\n",
              "      background-color: #3B4455;\n",
              "      fill: #D2E3FC;\n",
              "    }\n",
              "\n",
              "    [theme=dark] .colab-df-convert:hover {\n",
              "      background-color: #434B5C;\n",
              "      box-shadow: 0px 1px 3px 1px rgba(0, 0, 0, 0.15);\n",
              "      filter: drop-shadow(0px 1px 2px rgba(0, 0, 0, 0.3));\n",
              "      fill: #FFFFFF;\n",
              "    }\n",
              "  </style>\n",
              "\n",
              "      <script>\n",
              "        const buttonEl =\n",
              "          document.querySelector('#df-bf819d8e-9394-4b5a-8e88-737b061d248c button.colab-df-convert');\n",
              "        buttonEl.style.display =\n",
              "          google.colab.kernel.accessAllowed ? 'block' : 'none';\n",
              "\n",
              "        async function convertToInteractive(key) {\n",
              "          const element = document.querySelector('#df-bf819d8e-9394-4b5a-8e88-737b061d248c');\n",
              "          const dataTable =\n",
              "            await google.colab.kernel.invokeFunction('convertToInteractive',\n",
              "                                                     [key], {});\n",
              "          if (!dataTable) return;\n",
              "\n",
              "          const docLinkHtml = 'Like what you see? Visit the ' +\n",
              "            '<a target=\"_blank\" href=https://colab.research.google.com/notebooks/data_table.ipynb>data table notebook</a>'\n",
              "            + ' to learn more about interactive tables.';\n",
              "          element.innerHTML = '';\n",
              "          dataTable['output_type'] = 'display_data';\n",
              "          await google.colab.output.renderOutput(dataTable, element);\n",
              "          const docLink = document.createElement('div');\n",
              "          docLink.innerHTML = docLinkHtml;\n",
              "          element.appendChild(docLink);\n",
              "        }\n",
              "      </script>\n",
              "    </div>\n",
              "  </div>\n",
              "  "
            ]
          },
          "metadata": {},
          "execution_count": 99
        }
      ]
    },
    {
      "cell_type": "code",
      "source": [
        "news['fake'].value_counts()"
      ],
      "metadata": {
        "colab": {
          "base_uri": "https://localhost:8080/"
        },
        "id": "vA7V2qxpIY7O",
        "outputId": "685b7c72-10fb-4b3a-b61e-f909f86e6feb"
      },
      "execution_count": 100,
      "outputs": [
        {
          "output_type": "execute_result",
          "data": {
            "text/plain": [
              "1    500\n",
              "0    500\n",
              "Name: fake, dtype: int64"
            ]
          },
          "metadata": {},
          "execution_count": 100
        }
      ]
    },
    {
      "cell_type": "code",
      "source": [
        "#Removing all rows with null values\n",
        "news1 = news.dropna()"
      ],
      "metadata": {
        "id": "mvnbZBw0LMvX"
      },
      "execution_count": 101,
      "outputs": []
    },
    {
      "cell_type": "code",
      "source": [
        "news1['fake'].value_counts()"
      ],
      "metadata": {
        "colab": {
          "base_uri": "https://localhost:8080/"
        },
        "id": "Rc3JT5KmLRaY",
        "outputId": "b7920dcd-6898-4cfa-aae1-225e769cae9e"
      },
      "execution_count": 102,
      "outputs": [
        {
          "output_type": "execute_result",
          "data": {
            "text/plain": [
              "1    500\n",
              "0    500\n",
              "Name: fake, dtype: int64"
            ]
          },
          "metadata": {},
          "execution_count": 102
        }
      ]
    },
    {
      "cell_type": "markdown",
      "source": [
        "# **Word2Vec text embedding**"
      ],
      "metadata": {
        "id": "7R_8qYzoxmhW"
      }
    },
    {
      "cell_type": "code",
      "source": [
        "#Word2vec text embedding will generate vectors for each word in the sentence\n",
        "#It will not generate a single vector for a sentence\n",
        "#Here we clean the text part and generate vectors for each word in the text\n",
        "#After this step, we split our dataset into test and train\n",
        "#Then we combine the vectors of all words in a sentence in an array\n",
        "#Next, we take average of all elements of vectors in a sentence to form a single vector for each sentence\n",
        "#After getting the vectors, we train the random forest classification model and use these vectors as input\n",
        "#Then at last, we evaluate our model by making predictions on test set and measuring accuracy, recall and precision"
      ],
      "metadata": {
        "id": "K7qOJUoCxwa4"
      },
      "execution_count": 103,
      "outputs": []
    },
    {
      "cell_type": "code",
      "source": [
        "import gensim\n",
        "from sklearn.model_selection import train_test_split"
      ],
      "metadata": {
        "id": "1Z3oLP8nWuVh"
      },
      "execution_count": 104,
      "outputs": []
    },
    {
      "cell_type": "code",
      "source": [
        "#Clean data using the built in cleaner in gensim\n",
        "news1['text_clean'] = news1['text'].apply(lambda x: gensim.utils.simple_preprocess(x))\n",
        "news1.head()"
      ],
      "metadata": {
        "colab": {
          "base_uri": "https://localhost:8080/",
          "height": 337
        },
        "id": "KF3J9-dcWuTk",
        "outputId": "39e175f1-c35e-4832-8f56-2b9a8872909f"
      },
      "execution_count": 105,
      "outputs": [
        {
          "output_type": "execute_result",
          "data": {
            "text/plain": [
              "                                                   title  \\\n",
              "15154  CASTRO IGNORES DISASTROUS COMMUNIST POLICIES T...   \n",
              "7624    Gun Industry Has NO SHAME In Their PATHETIC S...   \n",
              "12996  STUNNING DEVELOPMENT: OBAMA GIVES $75 MILLION ...   \n",
              "14424  STUNNING! FORMER DISNEY TECH WORKER’S Emotiona...   \n",
              "20655  LONG TIME DEMOCRATS, UNION WORKERS Explain Why...   \n",
              "\n",
              "                                                    text    subject  \\\n",
              "15154  If Obama had a communist friend he d be this p...   politics   \n",
              "7624   While one could argue that the Second Amendmen...       News   \n",
              "12996  You have got to be kidding me! After all the t...   politics   \n",
              "14424                                                      politics   \n",
              "20655  As millions of dollars of union dues flow into...  left-news   \n",
              "\n",
              "                date newstype  fake  \\\n",
              "15154   Sep 29, 2015     fake     1   \n",
              "7624   March 8, 2016     fake     1   \n",
              "12996   Sep 17, 2016     fake     1   \n",
              "14424   Feb 25, 2016     fake     1   \n",
              "20655    May 1, 2016     fake     1   \n",
              "\n",
              "                                              text_clean  \n",
              "15154  [if, obama, had, communist, friend, he, be, th...  \n",
              "7624   [while, one, could, argue, that, the, second, ...  \n",
              "12996  [you, have, got, to, be, kidding, me, after, a...  \n",
              "14424                                                 []  \n",
              "20655  [as, millions, of, dollars, of, union, dues, f...  "
            ],
            "text/html": [
              "\n",
              "  <div id=\"df-43992cdf-03c0-4edd-8e23-6295ba441b03\">\n",
              "    <div class=\"colab-df-container\">\n",
              "      <div>\n",
              "<style scoped>\n",
              "    .dataframe tbody tr th:only-of-type {\n",
              "        vertical-align: middle;\n",
              "    }\n",
              "\n",
              "    .dataframe tbody tr th {\n",
              "        vertical-align: top;\n",
              "    }\n",
              "\n",
              "    .dataframe thead th {\n",
              "        text-align: right;\n",
              "    }\n",
              "</style>\n",
              "<table border=\"1\" class=\"dataframe\">\n",
              "  <thead>\n",
              "    <tr style=\"text-align: right;\">\n",
              "      <th></th>\n",
              "      <th>title</th>\n",
              "      <th>text</th>\n",
              "      <th>subject</th>\n",
              "      <th>date</th>\n",
              "      <th>newstype</th>\n",
              "      <th>fake</th>\n",
              "      <th>text_clean</th>\n",
              "    </tr>\n",
              "  </thead>\n",
              "  <tbody>\n",
              "    <tr>\n",
              "      <th>15154</th>\n",
              "      <td>CASTRO IGNORES DISASTROUS COMMUNIST POLICIES T...</td>\n",
              "      <td>If Obama had a communist friend he d be this p...</td>\n",
              "      <td>politics</td>\n",
              "      <td>Sep 29, 2015</td>\n",
              "      <td>fake</td>\n",
              "      <td>1</td>\n",
              "      <td>[if, obama, had, communist, friend, he, be, th...</td>\n",
              "    </tr>\n",
              "    <tr>\n",
              "      <th>7624</th>\n",
              "      <td>Gun Industry Has NO SHAME In Their PATHETIC S...</td>\n",
              "      <td>While one could argue that the Second Amendmen...</td>\n",
              "      <td>News</td>\n",
              "      <td>March 8, 2016</td>\n",
              "      <td>fake</td>\n",
              "      <td>1</td>\n",
              "      <td>[while, one, could, argue, that, the, second, ...</td>\n",
              "    </tr>\n",
              "    <tr>\n",
              "      <th>12996</th>\n",
              "      <td>STUNNING DEVELOPMENT: OBAMA GIVES $75 MILLION ...</td>\n",
              "      <td>You have got to be kidding me! After all the t...</td>\n",
              "      <td>politics</td>\n",
              "      <td>Sep 17, 2016</td>\n",
              "      <td>fake</td>\n",
              "      <td>1</td>\n",
              "      <td>[you, have, got, to, be, kidding, me, after, a...</td>\n",
              "    </tr>\n",
              "    <tr>\n",
              "      <th>14424</th>\n",
              "      <td>STUNNING! FORMER DISNEY TECH WORKER’S Emotiona...</td>\n",
              "      <td></td>\n",
              "      <td>politics</td>\n",
              "      <td>Feb 25, 2016</td>\n",
              "      <td>fake</td>\n",
              "      <td>1</td>\n",
              "      <td>[]</td>\n",
              "    </tr>\n",
              "    <tr>\n",
              "      <th>20655</th>\n",
              "      <td>LONG TIME DEMOCRATS, UNION WORKERS Explain Why...</td>\n",
              "      <td>As millions of dollars of union dues flow into...</td>\n",
              "      <td>left-news</td>\n",
              "      <td>May 1, 2016</td>\n",
              "      <td>fake</td>\n",
              "      <td>1</td>\n",
              "      <td>[as, millions, of, dollars, of, union, dues, f...</td>\n",
              "    </tr>\n",
              "  </tbody>\n",
              "</table>\n",
              "</div>\n",
              "      <button class=\"colab-df-convert\" onclick=\"convertToInteractive('df-43992cdf-03c0-4edd-8e23-6295ba441b03')\"\n",
              "              title=\"Convert this dataframe to an interactive table.\"\n",
              "              style=\"display:none;\">\n",
              "        \n",
              "  <svg xmlns=\"http://www.w3.org/2000/svg\" height=\"24px\"viewBox=\"0 0 24 24\"\n",
              "       width=\"24px\">\n",
              "    <path d=\"M0 0h24v24H0V0z\" fill=\"none\"/>\n",
              "    <path d=\"M18.56 5.44l.94 2.06.94-2.06 2.06-.94-2.06-.94-.94-2.06-.94 2.06-2.06.94zm-11 1L8.5 8.5l.94-2.06 2.06-.94-2.06-.94L8.5 2.5l-.94 2.06-2.06.94zm10 10l.94 2.06.94-2.06 2.06-.94-2.06-.94-.94-2.06-.94 2.06-2.06.94z\"/><path d=\"M17.41 7.96l-1.37-1.37c-.4-.4-.92-.59-1.43-.59-.52 0-1.04.2-1.43.59L10.3 9.45l-7.72 7.72c-.78.78-.78 2.05 0 2.83L4 21.41c.39.39.9.59 1.41.59.51 0 1.02-.2 1.41-.59l7.78-7.78 2.81-2.81c.8-.78.8-2.07 0-2.86zM5.41 20L4 18.59l7.72-7.72 1.47 1.35L5.41 20z\"/>\n",
              "  </svg>\n",
              "      </button>\n",
              "      \n",
              "  <style>\n",
              "    .colab-df-container {\n",
              "      display:flex;\n",
              "      flex-wrap:wrap;\n",
              "      gap: 12px;\n",
              "    }\n",
              "\n",
              "    .colab-df-convert {\n",
              "      background-color: #E8F0FE;\n",
              "      border: none;\n",
              "      border-radius: 50%;\n",
              "      cursor: pointer;\n",
              "      display: none;\n",
              "      fill: #1967D2;\n",
              "      height: 32px;\n",
              "      padding: 0 0 0 0;\n",
              "      width: 32px;\n",
              "    }\n",
              "\n",
              "    .colab-df-convert:hover {\n",
              "      background-color: #E2EBFA;\n",
              "      box-shadow: 0px 1px 2px rgba(60, 64, 67, 0.3), 0px 1px 3px 1px rgba(60, 64, 67, 0.15);\n",
              "      fill: #174EA6;\n",
              "    }\n",
              "\n",
              "    [theme=dark] .colab-df-convert {\n",
              "      background-color: #3B4455;\n",
              "      fill: #D2E3FC;\n",
              "    }\n",
              "\n",
              "    [theme=dark] .colab-df-convert:hover {\n",
              "      background-color: #434B5C;\n",
              "      box-shadow: 0px 1px 3px 1px rgba(0, 0, 0, 0.15);\n",
              "      filter: drop-shadow(0px 1px 2px rgba(0, 0, 0, 0.3));\n",
              "      fill: #FFFFFF;\n",
              "    }\n",
              "  </style>\n",
              "\n",
              "      <script>\n",
              "        const buttonEl =\n",
              "          document.querySelector('#df-43992cdf-03c0-4edd-8e23-6295ba441b03 button.colab-df-convert');\n",
              "        buttonEl.style.display =\n",
              "          google.colab.kernel.accessAllowed ? 'block' : 'none';\n",
              "\n",
              "        async function convertToInteractive(key) {\n",
              "          const element = document.querySelector('#df-43992cdf-03c0-4edd-8e23-6295ba441b03');\n",
              "          const dataTable =\n",
              "            await google.colab.kernel.invokeFunction('convertToInteractive',\n",
              "                                                     [key], {});\n",
              "          if (!dataTable) return;\n",
              "\n",
              "          const docLinkHtml = 'Like what you see? Visit the ' +\n",
              "            '<a target=\"_blank\" href=https://colab.research.google.com/notebooks/data_table.ipynb>data table notebook</a>'\n",
              "            + ' to learn more about interactive tables.';\n",
              "          element.innerHTML = '';\n",
              "          dataTable['output_type'] = 'display_data';\n",
              "          await google.colab.output.renderOutput(dataTable, element);\n",
              "          const docLink = document.createElement('div');\n",
              "          docLink.innerHTML = docLinkHtml;\n",
              "          element.appendChild(docLink);\n",
              "        }\n",
              "      </script>\n",
              "    </div>\n",
              "  </div>\n",
              "  "
            ]
          },
          "metadata": {},
          "execution_count": 105
        }
      ]
    },
    {
      "cell_type": "code",
      "source": [
        "# Split data into train and test sets\n",
        "X_train, X_test, y_train, y_test = train_test_split (news1['text_clean'], news1['fake'],random_state = 3)"
      ],
      "metadata": {
        "id": "Hnx4Cn8IWuRg"
      },
      "execution_count": 161,
      "outputs": []
    },
    {
      "cell_type": "code",
      "source": [
        "# Train the word2vec model\n",
        "w2v_model = gensim.models.Word2Vec(X_train,\n",
        "                                   size=100,\n",
        "                                   window=5,\n",
        "                                   min_count=2)"
      ],
      "metadata": {
        "id": "my7nNzpLWuPV"
      },
      "execution_count": 162,
      "outputs": []
    },
    {
      "cell_type": "code",
      "source": [
        "#Generate aggregated sentence vectors based on the word vectors for each word in the sentence\n",
        "#This code makes an array of all the sentences in which each sentence is an array of words in that sentence\n",
        "import numpy as np\n",
        "words = set(w2v_model.wv.index2word )\n",
        "X_train_vect = np.array([np.array([w2v_model.wv[i] for i in ls if i in words])\n",
        "                         for ls in X_train])\n",
        "X_test_vect = np.array([np.array([w2v_model.wv[i] for i in ls if i in words])\n",
        "                         for ls in X_test])"
      ],
      "metadata": {
        "colab": {
          "base_uri": "https://localhost:8080/"
        },
        "id": "18uKpnxjWuNi",
        "outputId": "6201d92d-5cec-4096-93e4-a7aeb67dd672"
      },
      "execution_count": 163,
      "outputs": [
        {
          "output_type": "stream",
          "name": "stderr",
          "text": [
            "/usr/local/lib/python3.7/dist-packages/ipykernel_launcher.py:6: VisibleDeprecationWarning: Creating an ndarray from ragged nested sequences (which is a list-or-tuple of lists-or-tuples-or ndarrays with different lengths or shapes) is deprecated. If you meant to do this, you must specify 'dtype=object' when creating the ndarray.\n",
            "  \n",
            "/usr/local/lib/python3.7/dist-packages/ipykernel_launcher.py:8: VisibleDeprecationWarning: Creating an ndarray from ragged nested sequences (which is a list-or-tuple of lists-or-tuples-or ndarrays with different lengths or shapes) is deprecated. If you meant to do this, you must specify 'dtype=object' when creating the ndarray.\n",
            "  \n"
          ]
        }
      ]
    },
    {
      "cell_type": "code",
      "source": [
        "# Why is the length of the sentence different than the length of the sentence vector?\n",
        "#Here as seen, we see that each sentence has different no. of vectors.\n",
        "# This is going to be difficult to train the model\n",
        "for i, v in enumerate(X_train_vect):\n",
        "    print(len(X_train.iloc[i]), len(v))"
      ],
      "metadata": {
        "colab": {
          "base_uri": "https://localhost:8080/"
        },
        "id": "XGprpWPwWuLX",
        "outputId": "051a89d2-c831-4c5b-eb0c-4a7e4e5bd2ec"
      },
      "execution_count": 164,
      "outputs": [
        {
          "output_type": "stream",
          "name": "stdout",
          "text": [
            "93 92\n",
            "198 195\n",
            "679 669\n",
            "412 398\n",
            "1224 1196\n",
            "72 69\n",
            "117 117\n",
            "185 182\n",
            "260 249\n",
            "309 303\n",
            "509 503\n",
            "63 60\n",
            "471 460\n",
            "67 65\n",
            "198 195\n",
            "708 692\n",
            "745 723\n",
            "122 120\n",
            "270 268\n",
            "347 343\n",
            "306 292\n",
            "379 366\n",
            "325 311\n",
            "347 333\n",
            "138 137\n",
            "2 2\n",
            "219 217\n",
            "328 326\n",
            "583 548\n",
            "714 687\n",
            "873 867\n",
            "702 683\n",
            "70 70\n",
            "115 114\n",
            "378 374\n",
            "51 49\n",
            "329 329\n",
            "506 492\n",
            "283 277\n",
            "114 114\n",
            "0 0\n",
            "185 183\n",
            "389 370\n",
            "175 174\n",
            "463 455\n",
            "475 469\n",
            "194 191\n",
            "199 198\n",
            "261 261\n",
            "75 72\n",
            "193 190\n",
            "294 288\n",
            "270 259\n",
            "437 412\n",
            "278 261\n",
            "825 801\n",
            "479 467\n",
            "328 313\n",
            "524 513\n",
            "176 174\n",
            "227 219\n",
            "95 89\n",
            "267 252\n",
            "59 58\n",
            "280 265\n",
            "386 365\n",
            "258 255\n",
            "332 323\n",
            "235 228\n",
            "196 189\n",
            "588 571\n",
            "294 280\n",
            "303 297\n",
            "801 783\n",
            "274 272\n",
            "337 316\n",
            "98 89\n",
            "716 706\n",
            "495 485\n",
            "472 467\n",
            "613 608\n",
            "73 73\n",
            "204 201\n",
            "633 619\n",
            "551 516\n",
            "24 19\n",
            "162 156\n",
            "60 60\n",
            "478 470\n",
            "365 360\n",
            "601 596\n",
            "178 174\n",
            "338 333\n",
            "803 772\n",
            "469 462\n",
            "613 604\n",
            "1370 1346\n",
            "402 393\n",
            "359 347\n",
            "486 475\n",
            "137 134\n",
            "63 63\n",
            "56 56\n",
            "307 298\n",
            "492 476\n",
            "493 477\n",
            "215 204\n",
            "78 77\n",
            "338 334\n",
            "632 619\n",
            "1166 1123\n",
            "268 261\n",
            "139 137\n",
            "219 216\n",
            "288 288\n",
            "498 489\n",
            "171 171\n",
            "262 256\n",
            "133 130\n",
            "768 737\n",
            "358 347\n",
            "311 304\n",
            "508 497\n",
            "315 313\n",
            "610 593\n",
            "490 480\n",
            "675 666\n",
            "274 263\n",
            "205 193\n",
            "359 347\n",
            "378 375\n",
            "379 369\n",
            "416 396\n",
            "67 67\n",
            "340 333\n",
            "248 248\n",
            "0 0\n",
            "17 17\n",
            "6 6\n",
            "264 263\n",
            "278 269\n",
            "408 397\n",
            "128 127\n",
            "89 87\n",
            "387 374\n",
            "338 329\n",
            "804 792\n",
            "243 237\n",
            "851 840\n",
            "891 883\n",
            "76 75\n",
            "235 227\n",
            "649 639\n",
            "389 382\n",
            "204 198\n",
            "76 75\n",
            "338 334\n",
            "702 681\n",
            "151 144\n",
            "138 136\n",
            "200 197\n",
            "410 409\n",
            "217 211\n",
            "356 349\n",
            "971 958\n",
            "3134 3134\n",
            "433 423\n",
            "739 737\n",
            "362 353\n",
            "318 313\n",
            "97 93\n",
            "38 37\n",
            "0 0\n",
            "90 90\n",
            "303 299\n",
            "279 278\n",
            "116 115\n",
            "444 392\n",
            "376 369\n",
            "414 394\n",
            "186 179\n",
            "259 255\n",
            "479 463\n",
            "472 455\n",
            "287 282\n",
            "166 164\n",
            "526 514\n",
            "2016 1954\n",
            "569 557\n",
            "387 379\n",
            "288 280\n",
            "634 614\n",
            "283 275\n",
            "47 44\n",
            "884 868\n",
            "148 143\n",
            "302 291\n",
            "718 700\n",
            "269 256\n",
            "89 84\n",
            "59 58\n",
            "296 290\n",
            "352 344\n",
            "322 315\n",
            "672 659\n",
            "819 783\n",
            "1348 1312\n",
            "450 434\n",
            "941 932\n",
            "1264 1248\n",
            "305 295\n",
            "255 248\n",
            "273 267\n",
            "363 361\n",
            "547 538\n",
            "1285 1199\n",
            "40 40\n",
            "82 82\n",
            "97 97\n",
            "277 269\n",
            "443 434\n",
            "389 379\n",
            "1017 987\n",
            "499 481\n",
            "782 742\n",
            "1686 1640\n",
            "699 676\n",
            "2784 2726\n",
            "235 225\n",
            "326 298\n",
            "173 170\n",
            "526 513\n",
            "160 158\n",
            "527 524\n",
            "301 299\n",
            "434 416\n",
            "1011 984\n",
            "74 74\n",
            "504 496\n",
            "909 894\n",
            "237 229\n",
            "81 80\n",
            "93 90\n",
            "553 535\n",
            "142 134\n",
            "1424 1385\n",
            "271 266\n",
            "74 73\n",
            "431 415\n",
            "16 16\n",
            "126 125\n",
            "619 596\n",
            "489 449\n",
            "399 390\n",
            "357 354\n",
            "62 62\n",
            "339 334\n",
            "635 617\n",
            "1158 1135\n",
            "108 107\n",
            "81 80\n",
            "685 678\n",
            "260 241\n",
            "0 0\n",
            "212 201\n",
            "267 262\n",
            "469 463\n",
            "587 567\n",
            "533 521\n",
            "65 63\n",
            "210 208\n",
            "244 234\n",
            "285 271\n",
            "0 0\n",
            "697 690\n",
            "330 319\n",
            "304 297\n",
            "521 516\n",
            "401 397\n",
            "558 547\n",
            "351 336\n",
            "163 162\n",
            "373 363\n",
            "512 503\n",
            "517 511\n",
            "372 358\n",
            "378 373\n",
            "90 90\n",
            "137 133\n",
            "631 604\n",
            "763 742\n",
            "99 99\n",
            "1310 1276\n",
            "344 341\n",
            "269 268\n",
            "286 281\n",
            "509 493\n",
            "547 535\n",
            "138 131\n",
            "142 140\n",
            "335 321\n",
            "383 378\n",
            "31 29\n",
            "501 483\n",
            "377 369\n",
            "86 86\n",
            "414 385\n",
            "330 322\n",
            "890 863\n",
            "0 0\n",
            "225 224\n",
            "381 370\n",
            "317 309\n",
            "563 535\n",
            "1443 1406\n",
            "148 144\n",
            "400 398\n",
            "382 370\n",
            "615 597\n",
            "462 449\n",
            "161 157\n",
            "739 726\n",
            "303 297\n",
            "12 12\n",
            "518 512\n",
            "338 327\n",
            "87 83\n",
            "326 307\n",
            "693 684\n",
            "193 185\n",
            "68 65\n",
            "168 163\n",
            "569 542\n",
            "413 403\n",
            "125 121\n",
            "729 691\n",
            "137 133\n",
            "325 306\n",
            "151 149\n",
            "581 572\n",
            "1919 1841\n",
            "54 52\n",
            "282 275\n",
            "861 855\n",
            "265 255\n",
            "307 298\n",
            "363 352\n",
            "387 381\n",
            "386 361\n",
            "437 422\n",
            "375 366\n",
            "342 332\n",
            "342 340\n",
            "505 497\n",
            "740 689\n",
            "276 269\n",
            "633 611\n",
            "32 31\n",
            "68 68\n",
            "247 244\n",
            "151 148\n",
            "853 845\n",
            "448 424\n",
            "707 695\n",
            "170 163\n",
            "38 38\n",
            "396 392\n",
            "693 659\n",
            "285 280\n",
            "131 128\n",
            "711 703\n",
            "313 304\n",
            "388 385\n",
            "146 145\n",
            "820 808\n",
            "301 292\n",
            "173 171\n",
            "246 243\n",
            "449 438\n",
            "179 170\n",
            "229 227\n",
            "533 529\n",
            "437 427\n",
            "1200 1176\n",
            "437 425\n",
            "155 148\n",
            "441 425\n",
            "351 345\n",
            "384 377\n",
            "396 386\n",
            "396 390\n",
            "173 169\n",
            "86 84\n",
            "161 146\n",
            "433 426\n",
            "660 652\n",
            "458 442\n",
            "51 51\n",
            "1491 1417\n",
            "329 322\n",
            "197 190\n",
            "349 341\n",
            "270 266\n",
            "268 258\n",
            "1122 1100\n",
            "0 0\n",
            "338 304\n",
            "363 360\n",
            "356 341\n",
            "634 613\n",
            "83 77\n",
            "22 21\n",
            "718 697\n",
            "592 585\n",
            "271 269\n",
            "503 484\n",
            "75 75\n",
            "3134 3134\n",
            "554 534\n",
            "392 375\n",
            "356 350\n",
            "36 34\n",
            "954 923\n",
            "267 265\n",
            "427 416\n",
            "701 686\n",
            "531 519\n",
            "93 90\n",
            "144 134\n",
            "362 351\n",
            "130 120\n",
            "97 95\n",
            "582 573\n",
            "522 513\n",
            "436 406\n",
            "32 31\n",
            "138 132\n",
            "572 566\n",
            "88 85\n",
            "75 73\n",
            "24 14\n",
            "583 561\n",
            "1522 1522\n",
            "368 361\n",
            "422 417\n",
            "66 66\n",
            "776 760\n",
            "76 76\n",
            "7 7\n",
            "160 154\n",
            "100 99\n",
            "210 204\n",
            "448 424\n",
            "543 523\n",
            "227 223\n",
            "55 53\n",
            "681 669\n",
            "346 335\n",
            "204 197\n",
            "765 744\n",
            "306 304\n",
            "477 462\n",
            "875 868\n",
            "1099 1079\n",
            "194 183\n",
            "298 289\n",
            "398 389\n",
            "421 408\n",
            "305 299\n",
            "316 296\n",
            "465 463\n",
            "372 363\n",
            "128 126\n",
            "594 579\n",
            "693 665\n",
            "654 645\n",
            "70 63\n",
            "272 268\n",
            "404 386\n",
            "131 128\n",
            "714 698\n",
            "363 360\n",
            "335 330\n",
            "996 959\n",
            "444 431\n",
            "445 430\n",
            "333 321\n",
            "100 99\n",
            "345 339\n",
            "534 523\n",
            "345 341\n",
            "107 107\n",
            "1092 1065\n",
            "445 432\n",
            "536 529\n",
            "597 577\n",
            "104 102\n",
            "56 56\n",
            "3737 3637\n",
            "125 125\n",
            "114 113\n",
            "388 377\n",
            "467 456\n",
            "52 52\n",
            "75 73\n",
            "0 0\n",
            "571 568\n",
            "44 42\n",
            "100 97\n",
            "300 288\n",
            "505 496\n",
            "433 420\n",
            "260 253\n",
            "343 330\n",
            "303 301\n",
            "832 813\n",
            "469 466\n",
            "416 402\n",
            "515 510\n",
            "111 108\n",
            "1760 1700\n",
            "475 462\n",
            "58 54\n",
            "206 205\n",
            "285 277\n",
            "580 565\n",
            "639 629\n",
            "48 48\n",
            "433 427\n",
            "524 517\n",
            "365 360\n",
            "368 366\n",
            "345 340\n",
            "450 441\n",
            "591 570\n",
            "242 238\n",
            "303 296\n",
            "2542 2400\n",
            "273 267\n",
            "430 426\n",
            "88 87\n",
            "270 260\n",
            "389 378\n",
            "454 432\n",
            "534 518\n",
            "518 502\n",
            "599 580\n",
            "654 641\n",
            "606 597\n",
            "768 747\n",
            "893 866\n",
            "219 215\n",
            "822 813\n",
            "471 455\n",
            "1522 1522\n",
            "209 207\n",
            "317 301\n",
            "376 371\n",
            "11 11\n",
            "685 672\n",
            "64 64\n",
            "187 180\n",
            "1058 1033\n",
            "700 697\n",
            "379 374\n",
            "435 429\n",
            "375 365\n",
            "627 610\n",
            "787 766\n",
            "1150 1138\n",
            "162 159\n",
            "375 369\n",
            "92 90\n",
            "457 453\n",
            "363 336\n",
            "589 571\n",
            "367 349\n",
            "839 806\n",
            "2501 2422\n",
            "272 267\n",
            "0 0\n",
            "419 408\n",
            "366 355\n",
            "387 381\n",
            "458 455\n",
            "402 376\n",
            "443 440\n",
            "642 624\n",
            "460 438\n",
            "385 379\n",
            "367 351\n",
            "479 468\n",
            "46 46\n",
            "313 302\n",
            "531 524\n",
            "271 264\n",
            "511 499\n",
            "672 653\n",
            "627 610\n",
            "142 139\n",
            "143 143\n",
            "350 341\n",
            "251 244\n",
            "130 128\n",
            "1088 1071\n",
            "600 578\n",
            "13 12\n",
            "329 329\n",
            "754 724\n",
            "423 403\n",
            "600 600\n",
            "674 665\n",
            "667 645\n",
            "538 528\n",
            "324 317\n",
            "185 182\n",
            "854 840\n",
            "520 498\n",
            "599 561\n",
            "2058 1984\n",
            "463 443\n",
            "596 589\n",
            "539 523\n",
            "272 265\n",
            "338 333\n",
            "709 691\n",
            "728 702\n",
            "283 277\n",
            "8 7\n",
            "174 172\n",
            "557 524\n",
            "50 50\n",
            "413 396\n",
            "451 441\n",
            "50 44\n",
            "375 368\n",
            "85 85\n",
            "595 566\n",
            "256 256\n",
            "61 60\n",
            "80 80\n",
            "396 379\n",
            "342 333\n",
            "114 107\n",
            "363 355\n",
            "403 397\n",
            "113 112\n",
            "394 386\n",
            "215 212\n",
            "595 581\n",
            "476 457\n",
            "245 243\n",
            "241 228\n",
            "85 82\n",
            "346 333\n",
            "366 362\n",
            "413 404\n",
            "135 133\n",
            "537 517\n",
            "419 410\n",
            "413 399\n",
            "263 256\n",
            "83 82\n",
            "359 350\n",
            "383 380\n",
            "388 379\n",
            "135 135\n",
            "834 808\n",
            "560 542\n",
            "474 460\n",
            "52 48\n",
            "395 389\n",
            "846 818\n",
            "466 464\n",
            "746 732\n",
            "100 95\n",
            "452 415\n",
            "464 444\n",
            "573 559\n",
            "385 375\n",
            "272 261\n",
            "490 479\n",
            "287 279\n",
            "518 505\n",
            "349 345\n",
            "388 382\n",
            "25 23\n",
            "506 494\n",
            "273 269\n",
            "262 248\n",
            "54 52\n",
            "761 742\n",
            "90 86\n",
            "70 70\n",
            "390 386\n",
            "66 64\n",
            "798 778\n",
            "240 232\n",
            "389 385\n",
            "203 199\n",
            "368 359\n",
            "264 261\n",
            "404 397\n",
            "108 100\n",
            "99 94\n",
            "246 241\n",
            "291 282\n",
            "455 448\n",
            "465 460\n",
            "0 0\n",
            "169 165\n",
            "24 23\n",
            "85 85\n",
            "427 421\n",
            "75 74\n",
            "419 416\n",
            "157 150\n",
            "764 737\n",
            "306 301\n",
            "659 649\n",
            "86 83\n",
            "409 401\n",
            "409 403\n",
            "151 147\n",
            "848 768\n",
            "116 112\n",
            "128 128\n",
            "88 88\n",
            "301 294\n",
            "1 1\n",
            "49 48\n",
            "495 484\n",
            "343 337\n",
            "198 191\n",
            "94 92\n",
            "57 55\n",
            "265 258\n",
            "195 190\n",
            "404 392\n",
            "341 329\n",
            "400 396\n",
            "75 74\n",
            "99 99\n",
            "431 419\n",
            "112 112\n",
            "161 152\n",
            "178 174\n",
            "393 384\n",
            "229 226\n",
            "314 303\n"
          ]
        }
      ]
    },
    {
      "cell_type": "code",
      "source": [
        "# Compute sentence vectors by averaging the word vectors for the words contained in the sentence\n",
        "#Here, we are averaging all features of vectors in a sentence to get a single vector for each sentence having 100 dimensions\n",
        "X_train_vect_avg = []\n",
        "for v in X_train_vect:\n",
        "    if v.size:\n",
        "        X_train_vect_avg.append(v.mean(axis=0))\n",
        "    else:\n",
        "        X_train_vect_avg.append(np.zeros(100, dtype=float))\n",
        "        \n",
        "X_test_vect_avg = []\n",
        "for v in X_test_vect:\n",
        "    if v.size:\n",
        "        X_test_vect_avg.append(v.mean(axis=0))\n",
        "    else:\n",
        "        X_test_vect_avg.append(np.zeros(100, dtype=float))"
      ],
      "metadata": {
        "id": "0uuVnd3PWuJT"
      },
      "execution_count": 165,
      "outputs": []
    },
    {
      "cell_type": "code",
      "source": [
        "# Are our sentence vector lengths consistent?\n",
        "for i, v in enumerate(X_train_vect_avg):\n",
        "    print(len(X_train.iloc[i]), len(v))"
      ],
      "metadata": {
        "colab": {
          "base_uri": "https://localhost:8080/"
        },
        "id": "IRQHbOEXWuHY",
        "outputId": "94bd76f6-88d2-457e-ac9c-037e465fc65f"
      },
      "execution_count": 166,
      "outputs": [
        {
          "output_type": "stream",
          "name": "stdout",
          "text": [
            "93 100\n",
            "198 100\n",
            "679 100\n",
            "412 100\n",
            "1224 100\n",
            "72 100\n",
            "117 100\n",
            "185 100\n",
            "260 100\n",
            "309 100\n",
            "509 100\n",
            "63 100\n",
            "471 100\n",
            "67 100\n",
            "198 100\n",
            "708 100\n",
            "745 100\n",
            "122 100\n",
            "270 100\n",
            "347 100\n",
            "306 100\n",
            "379 100\n",
            "325 100\n",
            "347 100\n",
            "138 100\n",
            "2 100\n",
            "219 100\n",
            "328 100\n",
            "583 100\n",
            "714 100\n",
            "873 100\n",
            "702 100\n",
            "70 100\n",
            "115 100\n",
            "378 100\n",
            "51 100\n",
            "329 100\n",
            "506 100\n",
            "283 100\n",
            "114 100\n",
            "0 100\n",
            "185 100\n",
            "389 100\n",
            "175 100\n",
            "463 100\n",
            "475 100\n",
            "194 100\n",
            "199 100\n",
            "261 100\n",
            "75 100\n",
            "193 100\n",
            "294 100\n",
            "270 100\n",
            "437 100\n",
            "278 100\n",
            "825 100\n",
            "479 100\n",
            "328 100\n",
            "524 100\n",
            "176 100\n",
            "227 100\n",
            "95 100\n",
            "267 100\n",
            "59 100\n",
            "280 100\n",
            "386 100\n",
            "258 100\n",
            "332 100\n",
            "235 100\n",
            "196 100\n",
            "588 100\n",
            "294 100\n",
            "303 100\n",
            "801 100\n",
            "274 100\n",
            "337 100\n",
            "98 100\n",
            "716 100\n",
            "495 100\n",
            "472 100\n",
            "613 100\n",
            "73 100\n",
            "204 100\n",
            "633 100\n",
            "551 100\n",
            "24 100\n",
            "162 100\n",
            "60 100\n",
            "478 100\n",
            "365 100\n",
            "601 100\n",
            "178 100\n",
            "338 100\n",
            "803 100\n",
            "469 100\n",
            "613 100\n",
            "1370 100\n",
            "402 100\n",
            "359 100\n",
            "486 100\n",
            "137 100\n",
            "63 100\n",
            "56 100\n",
            "307 100\n",
            "492 100\n",
            "493 100\n",
            "215 100\n",
            "78 100\n",
            "338 100\n",
            "632 100\n",
            "1166 100\n",
            "268 100\n",
            "139 100\n",
            "219 100\n",
            "288 100\n",
            "498 100\n",
            "171 100\n",
            "262 100\n",
            "133 100\n",
            "768 100\n",
            "358 100\n",
            "311 100\n",
            "508 100\n",
            "315 100\n",
            "610 100\n",
            "490 100\n",
            "675 100\n",
            "274 100\n",
            "205 100\n",
            "359 100\n",
            "378 100\n",
            "379 100\n",
            "416 100\n",
            "67 100\n",
            "340 100\n",
            "248 100\n",
            "0 100\n",
            "17 100\n",
            "6 100\n",
            "264 100\n",
            "278 100\n",
            "408 100\n",
            "128 100\n",
            "89 100\n",
            "387 100\n",
            "338 100\n",
            "804 100\n",
            "243 100\n",
            "851 100\n",
            "891 100\n",
            "76 100\n",
            "235 100\n",
            "649 100\n",
            "389 100\n",
            "204 100\n",
            "76 100\n",
            "338 100\n",
            "702 100\n",
            "151 100\n",
            "138 100\n",
            "200 100\n",
            "410 100\n",
            "217 100\n",
            "356 100\n",
            "971 100\n",
            "3134 100\n",
            "433 100\n",
            "739 100\n",
            "362 100\n",
            "318 100\n",
            "97 100\n",
            "38 100\n",
            "0 100\n",
            "90 100\n",
            "303 100\n",
            "279 100\n",
            "116 100\n",
            "444 100\n",
            "376 100\n",
            "414 100\n",
            "186 100\n",
            "259 100\n",
            "479 100\n",
            "472 100\n",
            "287 100\n",
            "166 100\n",
            "526 100\n",
            "2016 100\n",
            "569 100\n",
            "387 100\n",
            "288 100\n",
            "634 100\n",
            "283 100\n",
            "47 100\n",
            "884 100\n",
            "148 100\n",
            "302 100\n",
            "718 100\n",
            "269 100\n",
            "89 100\n",
            "59 100\n",
            "296 100\n",
            "352 100\n",
            "322 100\n",
            "672 100\n",
            "819 100\n",
            "1348 100\n",
            "450 100\n",
            "941 100\n",
            "1264 100\n",
            "305 100\n",
            "255 100\n",
            "273 100\n",
            "363 100\n",
            "547 100\n",
            "1285 100\n",
            "40 100\n",
            "82 100\n",
            "97 100\n",
            "277 100\n",
            "443 100\n",
            "389 100\n",
            "1017 100\n",
            "499 100\n",
            "782 100\n",
            "1686 100\n",
            "699 100\n",
            "2784 100\n",
            "235 100\n",
            "326 100\n",
            "173 100\n",
            "526 100\n",
            "160 100\n",
            "527 100\n",
            "301 100\n",
            "434 100\n",
            "1011 100\n",
            "74 100\n",
            "504 100\n",
            "909 100\n",
            "237 100\n",
            "81 100\n",
            "93 100\n",
            "553 100\n",
            "142 100\n",
            "1424 100\n",
            "271 100\n",
            "74 100\n",
            "431 100\n",
            "16 100\n",
            "126 100\n",
            "619 100\n",
            "489 100\n",
            "399 100\n",
            "357 100\n",
            "62 100\n",
            "339 100\n",
            "635 100\n",
            "1158 100\n",
            "108 100\n",
            "81 100\n",
            "685 100\n",
            "260 100\n",
            "0 100\n",
            "212 100\n",
            "267 100\n",
            "469 100\n",
            "587 100\n",
            "533 100\n",
            "65 100\n",
            "210 100\n",
            "244 100\n",
            "285 100\n",
            "0 100\n",
            "697 100\n",
            "330 100\n",
            "304 100\n",
            "521 100\n",
            "401 100\n",
            "558 100\n",
            "351 100\n",
            "163 100\n",
            "373 100\n",
            "512 100\n",
            "517 100\n",
            "372 100\n",
            "378 100\n",
            "90 100\n",
            "137 100\n",
            "631 100\n",
            "763 100\n",
            "99 100\n",
            "1310 100\n",
            "344 100\n",
            "269 100\n",
            "286 100\n",
            "509 100\n",
            "547 100\n",
            "138 100\n",
            "142 100\n",
            "335 100\n",
            "383 100\n",
            "31 100\n",
            "501 100\n",
            "377 100\n",
            "86 100\n",
            "414 100\n",
            "330 100\n",
            "890 100\n",
            "0 100\n",
            "225 100\n",
            "381 100\n",
            "317 100\n",
            "563 100\n",
            "1443 100\n",
            "148 100\n",
            "400 100\n",
            "382 100\n",
            "615 100\n",
            "462 100\n",
            "161 100\n",
            "739 100\n",
            "303 100\n",
            "12 100\n",
            "518 100\n",
            "338 100\n",
            "87 100\n",
            "326 100\n",
            "693 100\n",
            "193 100\n",
            "68 100\n",
            "168 100\n",
            "569 100\n",
            "413 100\n",
            "125 100\n",
            "729 100\n",
            "137 100\n",
            "325 100\n",
            "151 100\n",
            "581 100\n",
            "1919 100\n",
            "54 100\n",
            "282 100\n",
            "861 100\n",
            "265 100\n",
            "307 100\n",
            "363 100\n",
            "387 100\n",
            "386 100\n",
            "437 100\n",
            "375 100\n",
            "342 100\n",
            "342 100\n",
            "505 100\n",
            "740 100\n",
            "276 100\n",
            "633 100\n",
            "32 100\n",
            "68 100\n",
            "247 100\n",
            "151 100\n",
            "853 100\n",
            "448 100\n",
            "707 100\n",
            "170 100\n",
            "38 100\n",
            "396 100\n",
            "693 100\n",
            "285 100\n",
            "131 100\n",
            "711 100\n",
            "313 100\n",
            "388 100\n",
            "146 100\n",
            "820 100\n",
            "301 100\n",
            "173 100\n",
            "246 100\n",
            "449 100\n",
            "179 100\n",
            "229 100\n",
            "533 100\n",
            "437 100\n",
            "1200 100\n",
            "437 100\n",
            "155 100\n",
            "441 100\n",
            "351 100\n",
            "384 100\n",
            "396 100\n",
            "396 100\n",
            "173 100\n",
            "86 100\n",
            "161 100\n",
            "433 100\n",
            "660 100\n",
            "458 100\n",
            "51 100\n",
            "1491 100\n",
            "329 100\n",
            "197 100\n",
            "349 100\n",
            "270 100\n",
            "268 100\n",
            "1122 100\n",
            "0 100\n",
            "338 100\n",
            "363 100\n",
            "356 100\n",
            "634 100\n",
            "83 100\n",
            "22 100\n",
            "718 100\n",
            "592 100\n",
            "271 100\n",
            "503 100\n",
            "75 100\n",
            "3134 100\n",
            "554 100\n",
            "392 100\n",
            "356 100\n",
            "36 100\n",
            "954 100\n",
            "267 100\n",
            "427 100\n",
            "701 100\n",
            "531 100\n",
            "93 100\n",
            "144 100\n",
            "362 100\n",
            "130 100\n",
            "97 100\n",
            "582 100\n",
            "522 100\n",
            "436 100\n",
            "32 100\n",
            "138 100\n",
            "572 100\n",
            "88 100\n",
            "75 100\n",
            "24 100\n",
            "583 100\n",
            "1522 100\n",
            "368 100\n",
            "422 100\n",
            "66 100\n",
            "776 100\n",
            "76 100\n",
            "7 100\n",
            "160 100\n",
            "100 100\n",
            "210 100\n",
            "448 100\n",
            "543 100\n",
            "227 100\n",
            "55 100\n",
            "681 100\n",
            "346 100\n",
            "204 100\n",
            "765 100\n",
            "306 100\n",
            "477 100\n",
            "875 100\n",
            "1099 100\n",
            "194 100\n",
            "298 100\n",
            "398 100\n",
            "421 100\n",
            "305 100\n",
            "316 100\n",
            "465 100\n",
            "372 100\n",
            "128 100\n",
            "594 100\n",
            "693 100\n",
            "654 100\n",
            "70 100\n",
            "272 100\n",
            "404 100\n",
            "131 100\n",
            "714 100\n",
            "363 100\n",
            "335 100\n",
            "996 100\n",
            "444 100\n",
            "445 100\n",
            "333 100\n",
            "100 100\n",
            "345 100\n",
            "534 100\n",
            "345 100\n",
            "107 100\n",
            "1092 100\n",
            "445 100\n",
            "536 100\n",
            "597 100\n",
            "104 100\n",
            "56 100\n",
            "3737 100\n",
            "125 100\n",
            "114 100\n",
            "388 100\n",
            "467 100\n",
            "52 100\n",
            "75 100\n",
            "0 100\n",
            "571 100\n",
            "44 100\n",
            "100 100\n",
            "300 100\n",
            "505 100\n",
            "433 100\n",
            "260 100\n",
            "343 100\n",
            "303 100\n",
            "832 100\n",
            "469 100\n",
            "416 100\n",
            "515 100\n",
            "111 100\n",
            "1760 100\n",
            "475 100\n",
            "58 100\n",
            "206 100\n",
            "285 100\n",
            "580 100\n",
            "639 100\n",
            "48 100\n",
            "433 100\n",
            "524 100\n",
            "365 100\n",
            "368 100\n",
            "345 100\n",
            "450 100\n",
            "591 100\n",
            "242 100\n",
            "303 100\n",
            "2542 100\n",
            "273 100\n",
            "430 100\n",
            "88 100\n",
            "270 100\n",
            "389 100\n",
            "454 100\n",
            "534 100\n",
            "518 100\n",
            "599 100\n",
            "654 100\n",
            "606 100\n",
            "768 100\n",
            "893 100\n",
            "219 100\n",
            "822 100\n",
            "471 100\n",
            "1522 100\n",
            "209 100\n",
            "317 100\n",
            "376 100\n",
            "11 100\n",
            "685 100\n",
            "64 100\n",
            "187 100\n",
            "1058 100\n",
            "700 100\n",
            "379 100\n",
            "435 100\n",
            "375 100\n",
            "627 100\n",
            "787 100\n",
            "1150 100\n",
            "162 100\n",
            "375 100\n",
            "92 100\n",
            "457 100\n",
            "363 100\n",
            "589 100\n",
            "367 100\n",
            "839 100\n",
            "2501 100\n",
            "272 100\n",
            "0 100\n",
            "419 100\n",
            "366 100\n",
            "387 100\n",
            "458 100\n",
            "402 100\n",
            "443 100\n",
            "642 100\n",
            "460 100\n",
            "385 100\n",
            "367 100\n",
            "479 100\n",
            "46 100\n",
            "313 100\n",
            "531 100\n",
            "271 100\n",
            "511 100\n",
            "672 100\n",
            "627 100\n",
            "142 100\n",
            "143 100\n",
            "350 100\n",
            "251 100\n",
            "130 100\n",
            "1088 100\n",
            "600 100\n",
            "13 100\n",
            "329 100\n",
            "754 100\n",
            "423 100\n",
            "600 100\n",
            "674 100\n",
            "667 100\n",
            "538 100\n",
            "324 100\n",
            "185 100\n",
            "854 100\n",
            "520 100\n",
            "599 100\n",
            "2058 100\n",
            "463 100\n",
            "596 100\n",
            "539 100\n",
            "272 100\n",
            "338 100\n",
            "709 100\n",
            "728 100\n",
            "283 100\n",
            "8 100\n",
            "174 100\n",
            "557 100\n",
            "50 100\n",
            "413 100\n",
            "451 100\n",
            "50 100\n",
            "375 100\n",
            "85 100\n",
            "595 100\n",
            "256 100\n",
            "61 100\n",
            "80 100\n",
            "396 100\n",
            "342 100\n",
            "114 100\n",
            "363 100\n",
            "403 100\n",
            "113 100\n",
            "394 100\n",
            "215 100\n",
            "595 100\n",
            "476 100\n",
            "245 100\n",
            "241 100\n",
            "85 100\n",
            "346 100\n",
            "366 100\n",
            "413 100\n",
            "135 100\n",
            "537 100\n",
            "419 100\n",
            "413 100\n",
            "263 100\n",
            "83 100\n",
            "359 100\n",
            "383 100\n",
            "388 100\n",
            "135 100\n",
            "834 100\n",
            "560 100\n",
            "474 100\n",
            "52 100\n",
            "395 100\n",
            "846 100\n",
            "466 100\n",
            "746 100\n",
            "100 100\n",
            "452 100\n",
            "464 100\n",
            "573 100\n",
            "385 100\n",
            "272 100\n",
            "490 100\n",
            "287 100\n",
            "518 100\n",
            "349 100\n",
            "388 100\n",
            "25 100\n",
            "506 100\n",
            "273 100\n",
            "262 100\n",
            "54 100\n",
            "761 100\n",
            "90 100\n",
            "70 100\n",
            "390 100\n",
            "66 100\n",
            "798 100\n",
            "240 100\n",
            "389 100\n",
            "203 100\n",
            "368 100\n",
            "264 100\n",
            "404 100\n",
            "108 100\n",
            "99 100\n",
            "246 100\n",
            "291 100\n",
            "455 100\n",
            "465 100\n",
            "0 100\n",
            "169 100\n",
            "24 100\n",
            "85 100\n",
            "427 100\n",
            "75 100\n",
            "419 100\n",
            "157 100\n",
            "764 100\n",
            "306 100\n",
            "659 100\n",
            "86 100\n",
            "409 100\n",
            "409 100\n",
            "151 100\n",
            "848 100\n",
            "116 100\n",
            "128 100\n",
            "88 100\n",
            "301 100\n",
            "1 100\n",
            "49 100\n",
            "495 100\n",
            "343 100\n",
            "198 100\n",
            "94 100\n",
            "57 100\n",
            "265 100\n",
            "195 100\n",
            "404 100\n",
            "341 100\n",
            "400 100\n",
            "75 100\n",
            "99 100\n",
            "431 100\n",
            "112 100\n",
            "161 100\n",
            "178 100\n",
            "393 100\n",
            "229 100\n",
            "314 100\n"
          ]
        }
      ]
    },
    {
      "cell_type": "code",
      "source": [
        "#Fitting a basic Random Forest model\n",
        "from sklearn.ensemble import RandomForestClassifier\n",
        "rf = RandomForestClassifier()\n",
        "rf_model = rf.fit(X_train_vect_avg, y_train.values.ravel())"
      ],
      "metadata": {
        "id": "rsM8DFl9WuFd"
      },
      "execution_count": 167,
      "outputs": []
    },
    {
      "cell_type": "code",
      "source": [
        "#Making predictions on the test data \n",
        "y_pred = rf_model.predict(X_test_vect_avg)"
      ],
      "metadata": {
        "id": "TgmJ4hYSWuD0"
      },
      "execution_count": 168,
      "outputs": []
    },
    {
      "cell_type": "code",
      "source": [
        "#Calculating precision, recall and accuracy\n",
        "from sklearn.metrics import precision_score, recall_score\n",
        "precision = precision_score(y_test, y_pred)\n",
        "recall = recall_score(y_test, y_pred)\n",
        "print('Precision: {} / Recall: {} / Accuracy: {}'.format(\n",
        "    round(precision, 3), round(recall, 3), round((y_pred==y_test).sum()/len(y_pred), 3)))\n"
      ],
      "metadata": {
        "colab": {
          "base_uri": "https://localhost:8080/"
        },
        "id": "YX06dD_9WuBe",
        "outputId": "0b36aa0e-6f07-4ad5-92a6-ffd8180c47cd"
      },
      "execution_count": 169,
      "outputs": [
        {
          "output_type": "stream",
          "name": "stdout",
          "text": [
            "Precision: 0.912 / Recall: 0.798 / Accuracy: 0.856\n"
          ]
        }
      ]
    },
    {
      "cell_type": "code",
      "source": [
        "#Confusion matrix\n",
        "from sklearn.metrics import confusion_matrix, classification_report\n",
        "cm = confusion_matrix(y_test, y_pred)\n",
        "cm "
      ],
      "metadata": {
        "colab": {
          "base_uri": "https://localhost:8080/"
        },
        "id": "AzjF68jRWt_b",
        "outputId": "c8cccfa8-eabb-4ae2-ae0b-0bc9c73be113"
      },
      "execution_count": 170,
      "outputs": [
        {
          "output_type": "execute_result",
          "data": {
            "text/plain": [
              "array([[111,  10],\n",
              "       [ 26, 103]])"
            ]
          },
          "metadata": {},
          "execution_count": 170
        }
      ]
    },
    {
      "cell_type": "code",
      "source": [
        "#Heatmap\n",
        "from matplotlib import pyplot as plt\n",
        "import seaborn as sn\n",
        "sn.heatmap(cm, annot=True, fmt='d')\n",
        "plt.xlabel('Predicted')\n",
        "plt.ylabel('Truth')"
      ],
      "metadata": {
        "colab": {
          "base_uri": "https://localhost:8080/",
          "height": 297
        },
        "id": "5exWt4ByWt9D",
        "outputId": "1e82830b-5208-41c5-977d-ce29191a4ac5"
      },
      "execution_count": 171,
      "outputs": [
        {
          "output_type": "execute_result",
          "data": {
            "text/plain": [
              "Text(33.0, 0.5, 'Truth')"
            ]
          },
          "metadata": {},
          "execution_count": 171
        },
        {
          "output_type": "display_data",
          "data": {
            "text/plain": [
              "<Figure size 432x288 with 2 Axes>"
            ],
            "image/png": "[encoded data removed]"
          },
          "metadata": {
            "needs_background": "light"
          }
        }
      ]
    },
    {
      "cell_type": "code",
      "source": [
        "#Classification report\n",
        "print(classification_report(y_test, y_pred))"
      ],
      "metadata": {
        "colab": {
          "base_uri": "https://localhost:8080/"
        },
        "id": "Qb-l2U_EWtx1",
        "outputId": "05d8065e-76d4-47d2-9de0-4b5553b477fc"
      },
      "execution_count": 172,
      "outputs": [
        {
          "output_type": "stream",
          "name": "stdout",
          "text": [
            "              precision    recall  f1-score   support\n",
            "\n",
            "           0       0.81      0.92      0.86       121\n",
            "           1       0.91      0.80      0.85       129\n",
            "\n",
            "    accuracy                           0.86       250\n",
            "   macro avg       0.86      0.86      0.86       250\n",
            "weighted avg       0.86      0.86      0.86       250\n",
            "\n"
          ]
        }
      ]
    },
    {
      "cell_type": "markdown",
      "source": [
        "# **Contextual embeddings using BERT-base model**"
      ],
      "metadata": {
        "id": "nls01gJesVsC"
      }
    },
    {
      "cell_type": "code",
      "source": [
        "#Here, we are using the BERT-base model to obtain vectors from each news text\n",
        "#BERT-base model is used which contains 12 hidden layers, hidden size of 768 and 12 attention heads\n",
        "#We split our dataset into test and train\n",
        "#We define the bert model consisting of input, preprocessing, encoding, neural network layers and finally producing output\n",
        "#These outputs are the probability values of the news text being fake or not. If these values are greater than 0.5, we assign fake label or 1 in our case. Otherwise, we provide label as 0.\n",
        "#Then we fit these models in 5 epochs\n"
      ],
      "metadata": {
        "id": "fPUrZv1hzXHm"
      },
      "execution_count": 118,
      "outputs": []
    },
    {
      "cell_type": "code",
      "source": [
        "# A dependency of the preprocessing for BERT inputs\n",
        "!pip install -q -U \"tensorflow-text==2.8.*\""
      ],
      "metadata": {
        "id": "q0-iKaXeGyec"
      },
      "execution_count": 119,
      "outputs": []
    },
    {
      "cell_type": "code",
      "source": [
        "!pip install -q tf-models-official==2.7.0"
      ],
      "metadata": {
        "id": "7PYNJX2sHDsp"
      },
      "execution_count": 120,
      "outputs": []
    },
    {
      "cell_type": "code",
      "source": [
        "import os\n",
        "import shutil\n",
        "\n",
        "import tensorflow as tf\n",
        "import tensorflow_hub as hub\n",
        "import tensorflow_text as text\n",
        "from official.nlp import optimization  # to create AdamW optimizer\n",
        "\n",
        "import matplotlib.pyplot as plt\n",
        "\n",
        "tf.get_logger().setLevel('ERROR')"
      ],
      "metadata": {
        "id": "e46WLnVbHEXk"
      },
      "execution_count": 121,
      "outputs": []
    },
    {
      "cell_type": "code",
      "source": [
        "#Splitting into test and train\n",
        "from sklearn.model_selection import train_test_split\n",
        "X_train1, X_test1, y_train1, y_test1 = train_test_split(news1['text'],news1[\"fake\"], stratify = news1['fake'],random_state = 2)"
      ],
      "metadata": {
        "id": "1HTQ5ChdIiU3"
      },
      "execution_count": 122,
      "outputs": []
    },
    {
      "cell_type": "code",
      "source": [
        "X_train1.head(4)"
      ],
      "metadata": {
        "colab": {
          "base_uri": "https://localhost:8080/"
        },
        "id": "fUIIS6UmJiKW",
        "outputId": "f5127c20-bcb2-4428-d2e8-fe80125ab3d1"
      },
      "execution_count": 123,
      "outputs": [
        {
          "output_type": "execute_result",
          "data": {
            "text/plain": [
              "18871    ALMATY (Reuters) - The first prominent disside...\n",
              "7128     To say that David Brooks is not impressed with...\n",
              "10175    Katie Couric took to Twitter to call out Charl...\n",
              "17264    And they re heading to Cape Cod next! Where do...\n",
              "Name: text, dtype: object"
            ]
          },
          "metadata": {},
          "execution_count": 123
        }
      ]
    },
    {
      "cell_type": "code",
      "source": [
        "#BERT preprocessor and BERT encoder\n",
        "bert_preprocess = hub.KerasLayer(\"https://tfhub.dev/tensorflow/bert_en_uncased_preprocess/3\")\n",
        "bert_encoder = hub.KerasLayer(\"https://tfhub.dev/tensorflow/bert_en_uncased_L-12_H-768_A-12/4\")\n"
      ],
      "metadata": {
        "id": "EEH7RTzzJkL2"
      },
      "execution_count": 128,
      "outputs": []
    },
    {
      "cell_type": "code",
      "source": [
        "#Defining the bert model consisting of input, preprocessing, encoding, neural network layers and finally producing output\n",
        "# Bert layers\n",
        "text_input = tf.keras.layers.Input(shape=(), dtype=tf.string, name='text')\n",
        "preprocessed_text = bert_preprocess(text_input)\n",
        "outputs = bert_encoder(preprocessed_text)\n",
        "\n",
        "# Neural network layers\n",
        "l = tf.keras.layers.Dropout(0.1, name=\"dropout\")(outputs['pooled_output'])\n",
        "l = tf.keras.layers.Dense(1, activation='sigmoid', name=\"output\")(l)\n",
        "\n",
        "# Use inputs and outputs to construct a final model\n",
        "model = tf.keras.Model(inputs=[text_input], outputs = [l])"
      ],
      "metadata": {
        "id": "H7XIA8ssJzOP"
      },
      "execution_count": 129,
      "outputs": []
    },
    {
      "cell_type": "code",
      "source": [
        "model.summary()"
      ],
      "metadata": {
        "colab": {
          "base_uri": "https://localhost:8080/"
        },
        "id": "7S07GsfIKcfk",
        "outputId": "110ba4f7-3061-4eee-9c89-0398569ac259"
      },
      "execution_count": 130,
      "outputs": [
        {
          "output_type": "stream",
          "name": "stdout",
          "text": [
            "Model: \"model_1\"\n",
            "__________________________________________________________________________________________________\n",
            " Layer (type)                   Output Shape         Param #     Connected to                     \n",
            "==================================================================================================\n",
            " text (InputLayer)              [(None,)]            0           []                               \n",
            "                                                                                                  \n",
            " keras_layer_4 (KerasLayer)     {'input_type_ids':   0           ['text[0][0]']                   \n",
            "                                (None, 128),                                                      \n",
            "                                 'input_mask': (Non                                               \n",
            "                                e, 128),                                                          \n",
            "                                 'input_word_ids':                                                \n",
            "                                (None, 128)}                                                      \n",
            "                                                                                                  \n",
            " keras_layer_5 (KerasLayer)     {'default': (None,   109482241   ['keras_layer_4[0][0]',          \n",
            "                                768),                             'keras_layer_4[0][1]',          \n",
            "                                 'sequence_output':               'keras_layer_4[0][2]']          \n",
            "                                 (None, 128, 768),                                                \n",
            "                                 'pooled_output': (                                               \n",
            "                                None, 768),                                                       \n",
            "                                 'encoder_outputs':                                               \n",
            "                                 [(None, 128, 768),                                               \n",
            "                                 (None, 128, 768),                                                \n",
            "                                 (None, 128, 768),                                                \n",
            "                                 (None, 128, 768),                                                \n",
            "                                 (None, 128, 768),                                                \n",
            "                                 (None, 128, 768),                                                \n",
            "                                 (None, 128, 768),                                                \n",
            "                                 (None, 128, 768),                                                \n",
            "                                 (None, 128, 768),                                                \n",
            "                                 (None, 128, 768),                                                \n",
            "                                 (None, 128, 768),                                                \n",
            "                                 (None, 128, 768)]}                                               \n",
            "                                                                                                  \n",
            " dropout (Dropout)              (None, 768)          0           ['keras_layer_5[0][13]']         \n",
            "                                                                                                  \n",
            " output (Dense)                 (None, 1)            769         ['dropout[0][0]']                \n",
            "                                                                                                  \n",
            "==================================================================================================\n",
            "Total params: 109,483,010\n",
            "Trainable params: 769\n",
            "Non-trainable params: 109,482,241\n",
            "__________________________________________________________________________________________________\n"
          ]
        }
      ]
    },
    {
      "cell_type": "code",
      "source": [
        "#Defining metrics for model evaluation\n",
        "METRICS = [\n",
        "      tf.keras.metrics.BinaryAccuracy(name='accuracy'),\n",
        "      tf.keras.metrics.Precision(name='precision'),\n",
        "      tf.keras.metrics.Recall(name='recall')\n",
        "]\n",
        "\n",
        "model.compile(optimizer='adam',\n",
        "              loss='binary_crossentropy',\n",
        "              metrics=METRICS)\n"
      ],
      "metadata": {
        "id": "5ArHxQ2AKyqJ"
      },
      "execution_count": 131,
      "outputs": []
    },
    {
      "cell_type": "code",
      "source": [
        "#Fitting the model\n",
        "model.fit(X_train1, y_train1, epochs=5)"
      ],
      "metadata": {
        "colab": {
          "base_uri": "https://localhost:8080/"
        },
        "id": "vW84PIO7K1Bl",
        "outputId": "c932d571-30ab-471c-8000-792001672b47"
      },
      "execution_count": 132,
      "outputs": [
        {
          "output_type": "stream",
          "name": "stdout",
          "text": [
            "Epoch 1/5\n",
            "24/24 [==============================] - 370s 15s/step - loss: 0.6927 - accuracy: 0.5680 - precision: 0.5739 - recall: 0.5280\n",
            "Epoch 2/5\n",
            "24/24 [==============================] - 355s 15s/step - loss: 0.6027 - accuracy: 0.7493 - precision: 0.7726 - recall: 0.7067\n",
            "Epoch 3/5\n",
            "24/24 [==============================] - 355s 15s/step - loss: 0.5516 - accuracy: 0.7747 - precision: 0.7754 - recall: 0.7733\n",
            "Epoch 4/5\n",
            "24/24 [==============================] - 354s 15s/step - loss: 0.4982 - accuracy: 0.8333 - precision: 0.8788 - recall: 0.7733\n",
            "Epoch 5/5\n",
            "24/24 [==============================] - 354s 15s/step - loss: 0.4630 - accuracy: 0.8453 - precision: 0.8472 - recall: 0.8427\n"
          ]
        },
        {
          "output_type": "execute_result",
          "data": {
            "text/plain": [
              "<keras.callbacks.History at 0x7fe513ef1150>"
            ]
          },
          "metadata": {},
          "execution_count": 132
        }
      ]
    },
    {
      "cell_type": "code",
      "source": [
        "model.evaluate(X_test1, y_test1)"
      ],
      "metadata": {
        "colab": {
          "base_uri": "https://localhost:8080/"
        },
        "id": "EAmoG9ZaKzJp",
        "outputId": "42f5fd67-a3da-4e4f-e53a-e97b3c69f274"
      },
      "execution_count": 133,
      "outputs": [
        {
          "output_type": "stream",
          "name": "stdout",
          "text": [
            "8/8 [==============================] - 121s 15s/step - loss: 0.4750 - accuracy: 0.8560 - precision: 0.8739 - recall: 0.8320\n"
          ]
        },
        {
          "output_type": "execute_result",
          "data": {
            "text/plain": [
              "[0.4749678671360016,\n",
              " 0.8560000061988831,\n",
              " 0.8739495873451233,\n",
              " 0.8320000171661377]"
            ]
          },
          "metadata": {},
          "execution_count": 133
        }
      ]
    },
    {
      "cell_type": "code",
      "source": [
        "#Making predictions\n",
        "y_predicted1 = model.predict(X_test1)\n",
        "y_predicted1 = y_predicted1.flatten()"
      ],
      "metadata": {
        "id": "AfmbIBnxKzIH"
      },
      "execution_count": 134,
      "outputs": []
    },
    {
      "cell_type": "code",
      "source": [
        "#Changing probability values to 0 and 1 based on whether the value is greater than 0.5 or not\n",
        "import numpy as np\n",
        "y_predicted1 = np.where(y_predicted1 > 0.5, 1, 0)\n",
        "y_predicted1"
      ],
      "metadata": {
        "colab": {
          "base_uri": "https://localhost:8080/"
        },
        "id": "1fGU3GSEKzGE",
        "outputId": "87052194-4946-46a7-9cbd-aad5bfbd6c8d"
      },
      "execution_count": 135,
      "outputs": [
        {
          "output_type": "execute_result",
          "data": {
            "text/plain": [
              "array([0, 0, 1, 0, 0, 0, 1, 0, 0, 0, 1, 1, 0, 0, 0, 0, 1, 1, 1, 1, 0, 1,\n",
              "       1, 0, 1, 0, 0, 1, 1, 1, 1, 1, 1, 0, 0, 1, 1, 1, 0, 0, 0, 1, 0, 1,\n",
              "       1, 0, 0, 0, 0, 1, 0, 0, 1, 1, 0, 0, 0, 1, 0, 1, 0, 0, 1, 1, 0, 0,\n",
              "       0, 0, 0, 0, 1, 1, 0, 1, 1, 0, 1, 0, 0, 0, 0, 1, 0, 1, 1, 1, 1, 1,\n",
              "       0, 0, 0, 0, 0, 1, 0, 0, 1, 1, 0, 1, 1, 0, 0, 0, 1, 1, 1, 0, 0, 1,\n",
              "       1, 1, 0, 0, 0, 0, 0, 1, 0, 0, 0, 0, 1, 0, 0, 1, 0, 0, 0, 0, 1, 0,\n",
              "       1, 1, 0, 0, 1, 0, 0, 1, 0, 1, 1, 0, 1, 0, 0, 1, 0, 0, 0, 0, 1, 0,\n",
              "       0, 1, 1, 0, 1, 1, 0, 0, 0, 0, 1, 1, 0, 0, 1, 0, 1, 0, 0, 1, 1, 1,\n",
              "       0, 1, 0, 1, 1, 1, 1, 0, 0, 1, 0, 0, 0, 0, 0, 1, 0, 1, 0, 1, 1, 0,\n",
              "       0, 0, 1, 1, 1, 1, 1, 0, 1, 1, 0, 1, 1, 1, 0, 1, 0, 1, 1, 1, 1, 1,\n",
              "       1, 0, 0, 1, 0, 1, 0, 1, 1, 1, 0, 1, 0, 0, 1, 0, 1, 0, 0, 1, 1, 0,\n",
              "       1, 1, 1, 0, 1, 0, 1, 1])"
            ]
          },
          "metadata": {},
          "execution_count": 135
        }
      ]
    },
    {
      "cell_type": "code",
      "source": [
        "#confusion metrics\n",
        "from sklearn.metrics import confusion_matrix, classification_report\n",
        "cm1 = confusion_matrix(y_test1, y_predicted1)\n",
        "cm1"
      ],
      "metadata": {
        "colab": {
          "base_uri": "https://localhost:8080/"
        },
        "id": "7Hx8x8X0KzD5",
        "outputId": "486a981c-e045-40c6-95f1-3f0be338589b"
      },
      "execution_count": 136,
      "outputs": [
        {
          "output_type": "execute_result",
          "data": {
            "text/plain": [
              "array([[110,  15],\n",
              "       [ 21, 104]])"
            ]
          },
          "metadata": {},
          "execution_count": 136
        }
      ]
    },
    {
      "cell_type": "code",
      "source": [
        "#heat map\n",
        "from matplotlib import pyplot as plt\n",
        "import seaborn as sn\n",
        "sn.heatmap(cm1, annot=True, fmt='d')\n",
        "plt.xlabel('Predicted')\n",
        "plt.ylabel('Truth')"
      ],
      "metadata": {
        "colab": {
          "base_uri": "https://localhost:8080/",
          "height": 297
        },
        "id": "wZuWoLSHKzBW",
        "outputId": "894380ae-3291-4374-a833-60a90a14b45a"
      },
      "execution_count": 137,
      "outputs": [
        {
          "output_type": "execute_result",
          "data": {
            "text/plain": [
              "Text(33.0, 0.5, 'Truth')"
            ]
          },
          "metadata": {},
          "execution_count": 137
        },
        {
          "output_type": "display_data",
          "data": {
            "text/plain": [
              "<Figure size 432x288 with 2 Axes>"
            ],
            "image/png": "[encoded data removed]"
          },
          "metadata": {
            "needs_background": "light"
          }
        }
      ]
    },
    {
      "cell_type": "code",
      "source": [
        "print(classification_report(y_test1, y_predicted1))"
      ],
      "metadata": {
        "colab": {
          "base_uri": "https://localhost:8080/"
        },
        "id": "aIL-Sc66Ky-h",
        "outputId": "17252635-0b32-4751-f1e1-07b1c22852ec"
      },
      "execution_count": 138,
      "outputs": [
        {
          "output_type": "stream",
          "name": "stdout",
          "text": [
            "              precision    recall  f1-score   support\n",
            "\n",
            "           0       0.84      0.88      0.86       125\n",
            "           1       0.87      0.83      0.85       125\n",
            "\n",
            "    accuracy                           0.86       250\n",
            "   macro avg       0.86      0.86      0.86       250\n",
            "weighted avg       0.86      0.86      0.86       250\n",
            "\n"
          ]
        }
      ]
    },
    {
      "cell_type": "markdown",
      "source": [
        "# **Contextual embeddings using BERT-Large model**"
      ],
      "metadata": {
        "id": "q1KxPVF_4zgf"
      }
    },
    {
      "cell_type": "code",
      "source": [
        "#This model contains 24 layers, 16 Attention layers and 1024 hidden dimensions\n",
        "#We split our dataset into test and train\n",
        "#We define the bert model consisting of input, preprocessing, encoding, neural network layers and finally producing output\n",
        "#These outputs are the probability values of the news text being fake or not. If these values are greater than 0.5, we assign fake label or 1 in our case. Otherwise, we provide label as 0.\n",
        "#Then we fit these models in 5 epochs\n"
      ],
      "metadata": {
        "id": "igsfLHN_UH7r"
      },
      "execution_count": 139,
      "outputs": []
    },
    {
      "cell_type": "code",
      "source": [
        "#BERT preprocessor and BERT encoder\n",
        "bert_preprocess1 = hub.KerasLayer(\"https://tfhub.dev/tensorflow/bert_en_uncased_preprocess/3\")\n",
        "bert_encoder1 = hub.KerasLayer(\"https://tfhub.dev/tensorflow/bert_en_uncased_L-24_H-1024_A-16/4\")"
      ],
      "metadata": {
        "id": "0y1HTzvoUH0R"
      },
      "execution_count": 124,
      "outputs": []
    },
    {
      "cell_type": "code",
      "source": [
        "#Splitting into test and train\n",
        "from sklearn.model_selection import train_test_split\n",
        "X_train2, X_test2, y_train2, y_test2 = train_test_split(news1['text'],news1[\"fake\"], stratify = news1['fake'],random_state = 2)"
      ],
      "metadata": {
        "id": "LNMWI9lwUHqy"
      },
      "execution_count": 125,
      "outputs": []
    },
    {
      "cell_type": "code",
      "source": [
        "#Defining the bert model consisting of input, preprocessing, encoding, neural network layers and finally producing output\n",
        "# Bert layers\n",
        "text_input = tf.keras.layers.Input(shape=(), dtype=tf.string, name='text')\n",
        "preprocessed_text = bert_preprocess1(text_input)\n",
        "outputs = bert_encoder1(preprocessed_text)\n",
        "\n",
        "# Neural network layers\n",
        "l = tf.keras.layers.Dropout(0.1, name=\"dropout\")(outputs['pooled_output'])\n",
        "l = tf.keras.layers.Dense(1, activation='sigmoid', name=\"output\")(l)\n",
        "\n",
        "# Use inputs and outputs to construct a final model\n",
        "model1 = tf.keras.Model(inputs=[text_input], outputs = [l])"
      ],
      "metadata": {
        "id": "zoVqllAP6EKO"
      },
      "execution_count": 126,
      "outputs": []
    },
    {
      "cell_type": "code",
      "source": [
        "model1.summary()"
      ],
      "metadata": {
        "colab": {
          "base_uri": "https://localhost:8080/"
        },
        "id": "R9CDpEYM6EIL",
        "outputId": "d56f4c6d-3e59-4673-d62b-aace6022cac2"
      },
      "execution_count": 127,
      "outputs": [
        {
          "output_type": "stream",
          "name": "stdout",
          "text": [
            "Model: \"model\"\n",
            "__________________________________________________________________________________________________\n",
            " Layer (type)                   Output Shape         Param #     Connected to                     \n",
            "==================================================================================================\n",
            " text (InputLayer)              [(None,)]            0           []                               \n",
            "                                                                                                  \n",
            " keras_layer_2 (KerasLayer)     {'input_mask': (Non  0           ['text[0][0]']                   \n",
            "                                e, 128),                                                          \n",
            "                                 'input_word_ids':                                                \n",
            "                                (None, 128),                                                      \n",
            "                                 'input_type_ids':                                                \n",
            "                                (None, 128)}                                                      \n",
            "                                                                                                  \n",
            " keras_layer_3 (KerasLayer)     {'pooled_output': (  335141889   ['keras_layer_2[0][0]',          \n",
            "                                None, 1024),                      'keras_layer_2[0][1]',          \n",
            "                                 'sequence_output':               'keras_layer_2[0][2]']          \n",
            "                                 (None, 128, 1024),                                               \n",
            "                                 'default': (None,                                                \n",
            "                                1024),                                                            \n",
            "                                 'encoder_outputs':                                               \n",
            "                                 [(None, 128, 1024)                                               \n",
            "                                , (None, 128, 1024)                                               \n",
            "                                , (None, 128, 1024)                                               \n",
            "                                , (None, 128, 1024)                                               \n",
            "                                , (None, 128, 1024)                                               \n",
            "                                , (None, 128, 1024)                                               \n",
            "                                , (None, 128, 1024)                                               \n",
            "                                , (None, 128, 1024)                                               \n",
            "                                , (None, 128, 1024)                                               \n",
            "                                , (None, 128, 1024)                                               \n",
            "                                , (None, 128, 1024)                                               \n",
            "                                , (None, 128, 1024)                                               \n",
            "                                , (None, 128, 1024)                                               \n",
            "                                , (None, 128, 1024)                                               \n",
            "                                , (None, 128, 1024)                                               \n",
            "                                , (None, 128, 1024)                                               \n",
            "                                , (None, 128, 1024)                                               \n",
            "                                , (None, 128, 1024)                                               \n",
            "                                , (None, 128, 1024)                                               \n",
            "                                , (None, 128, 1024)                                               \n",
            "                                , (None, 128, 1024)                                               \n",
            "                                , (None, 128, 1024)                                               \n",
            "                                , (None, 128, 1024)                                               \n",
            "                                , (None, 128, 1024)                                               \n",
            "                                ]}                                                                \n",
            "                                                                                                  \n",
            " dropout (Dropout)              (None, 1024)         0           ['keras_layer_3[0][25]']         \n",
            "                                                                                                  \n",
            " output (Dense)                 (None, 1)            1025        ['dropout[0][0]']                \n",
            "                                                                                                  \n",
            "==================================================================================================\n",
            "Total params: 335,142,914\n",
            "Trainable params: 1,025\n",
            "Non-trainable params: 335,141,889\n",
            "__________________________________________________________________________________________________\n"
          ]
        }
      ]
    },
    {
      "cell_type": "code",
      "source": [
        "#Defining metrics for model evaluation\n",
        "METRICS = [\n",
        "      tf.keras.metrics.BinaryAccuracy(name='accuracy'),\n",
        "      tf.keras.metrics.Precision(name='precision'),\n",
        "      tf.keras.metrics.Recall(name='recall')\n",
        "]\n",
        "\n",
        "model1.compile(optimizer='adam',\n",
        "              loss='binary_crossentropy',\n",
        "              metrics=METRICS)\n"
      ],
      "metadata": {
        "id": "hW-jAI5W6EGY"
      },
      "execution_count": 140,
      "outputs": []
    },
    {
      "cell_type": "code",
      "source": [
        "#Fitting the model\n",
        "model1.fit(X_train2, y_train2, epochs=5)"
      ],
      "metadata": {
        "colab": {
          "base_uri": "https://localhost:8080/"
        },
        "id": "Bl8knt_c6EEN",
        "outputId": "491b6676-f8b8-406c-b63b-1e9c66255558"
      },
      "execution_count": 141,
      "outputs": [
        {
          "output_type": "stream",
          "name": "stdout",
          "text": [
            "Epoch 1/5\n",
            "24/24 [==============================] - 1210s 50s/step - loss: 0.7164 - accuracy: 0.5440 - precision: 0.5445 - recall: 0.5387\n",
            "Epoch 2/5\n",
            "24/24 [==============================] - 1187s 49s/step - loss: 0.6482 - accuracy: 0.6253 - precision: 0.6243 - recall: 0.6293\n",
            "Epoch 3/5\n",
            "24/24 [==============================] - 1190s 50s/step - loss: 0.6291 - accuracy: 0.6387 - precision: 0.6548 - recall: 0.5867\n",
            "Epoch 4/5\n",
            "24/24 [==============================] - 1185s 49s/step - loss: 0.6145 - accuracy: 0.6480 - precision: 0.6647 - recall: 0.5973\n",
            "Epoch 5/5\n",
            "24/24 [==============================] - 1179s 49s/step - loss: 0.5889 - accuracy: 0.6773 - precision: 0.6701 - recall: 0.6987\n"
          ]
        },
        {
          "output_type": "execute_result",
          "data": {
            "text/plain": [
              "<keras.callbacks.History at 0x7fe517b5e990>"
            ]
          },
          "metadata": {},
          "execution_count": 141
        }
      ]
    },
    {
      "cell_type": "code",
      "source": [
        "model1.evaluate(X_test2, y_test2)"
      ],
      "metadata": {
        "colab": {
          "base_uri": "https://localhost:8080/"
        },
        "id": "CUl2PSc16ECJ",
        "outputId": "0391707c-69f9-4390-8c85-56166ed5584a"
      },
      "execution_count": 142,
      "outputs": [
        {
          "output_type": "stream",
          "name": "stdout",
          "text": [
            "8/8 [==============================] - 397s 49s/step - loss: 0.5681 - accuracy: 0.6720 - precision: 0.9778 - recall: 0.3520\n"
          ]
        },
        {
          "output_type": "execute_result",
          "data": {
            "text/plain": [
              "[0.568147599697113, 0.671999990940094, 0.9777777791023254, 0.35199999809265137]"
            ]
          },
          "metadata": {},
          "execution_count": 142
        }
      ]
    },
    {
      "cell_type": "code",
      "source": [
        "#Making predictions\n",
        "y_predicted2 = model1.predict(X_test2)\n",
        "y_predicted2 = y_predicted2.flatten()"
      ],
      "metadata": {
        "id": "JrCfi0Lc6EAW"
      },
      "execution_count": 143,
      "outputs": []
    },
    {
      "cell_type": "code",
      "source": [
        "#Changing probability values to 0 and 1 based on whether the value is greater than 0.5 or not\n",
        "import numpy as np\n",
        "y_predicted2 = np.where(y_predicted2 > 0.5, 1, 0)\n",
        "y_predicted2"
      ],
      "metadata": {
        "colab": {
          "base_uri": "https://localhost:8080/"
        },
        "id": "M3Gz_UVH6D-T",
        "outputId": "c6112403-b623-49e1-8a9f-c7b5aea0cc98"
      },
      "execution_count": 144,
      "outputs": [
        {
          "output_type": "execute_result",
          "data": {
            "text/plain": [
              "array([0, 0, 0, 0, 0, 0, 0, 0, 0, 0, 0, 0, 0, 0, 0, 0, 0, 1, 0, 0, 0, 0,\n",
              "       0, 0, 0, 0, 0, 1, 0, 0, 1, 1, 1, 0, 0, 0, 1, 1, 0, 1, 0, 1, 0, 1,\n",
              "       1, 0, 0, 0, 1, 1, 0, 0, 0, 1, 0, 0, 0, 0, 0, 1, 0, 0, 0, 1, 0, 0,\n",
              "       0, 0, 0, 0, 0, 0, 0, 0, 1, 0, 0, 0, 0, 0, 0, 0, 0, 0, 0, 0, 0, 1,\n",
              "       0, 0, 0, 0, 0, 0, 0, 1, 0, 1, 0, 1, 1, 0, 0, 0, 1, 0, 1, 0, 0, 1,\n",
              "       0, 1, 0, 0, 0, 0, 0, 0, 0, 0, 0, 0, 1, 0, 0, 0, 0, 0, 0, 0, 0, 0,\n",
              "       0, 0, 0, 0, 0, 0, 0, 0, 0, 0, 1, 0, 0, 0, 1, 0, 0, 0, 0, 0, 0, 0,\n",
              "       0, 1, 0, 1, 0, 0, 0, 0, 0, 0, 1, 1, 0, 0, 1, 0, 0, 0, 1, 0, 0, 0,\n",
              "       0, 0, 0, 0, 0, 0, 0, 0, 0, 0, 0, 0, 0, 0, 0, 1, 0, 1, 0, 0, 0, 0,\n",
              "       0, 0, 0, 0, 0, 0, 1, 0, 0, 0, 0, 0, 0, 0, 0, 0, 0, 1, 0, 1, 1, 0,\n",
              "       0, 0, 0, 0, 0, 1, 0, 0, 1, 0, 0, 0, 0, 0, 0, 0, 0, 0, 0, 0, 0, 0,\n",
              "       0, 0, 0, 0, 1, 0, 0, 1])"
            ]
          },
          "metadata": {},
          "execution_count": 144
        }
      ]
    },
    {
      "cell_type": "code",
      "source": [
        "#confusion metrics\n",
        "from sklearn.metrics import confusion_matrix, classification_report\n",
        "cm2 = confusion_matrix(y_test2, y_predicted2)\n",
        "cm2"
      ],
      "metadata": {
        "colab": {
          "base_uri": "https://localhost:8080/"
        },
        "id": "zJOc5gEJ6D7x",
        "outputId": "2a4bbabd-8752-4b42-80ea-d709df7456c1"
      },
      "execution_count": 145,
      "outputs": [
        {
          "output_type": "execute_result",
          "data": {
            "text/plain": [
              "array([[124,   1],\n",
              "       [ 81,  44]])"
            ]
          },
          "metadata": {},
          "execution_count": 145
        }
      ]
    },
    {
      "cell_type": "code",
      "source": [
        "#Heat map\n",
        "from matplotlib import pyplot as plt\n",
        "import seaborn as sn\n",
        "sn.heatmap(cm2, annot=True, fmt='d')\n",
        "plt.xlabel('Predicted')\n",
        "plt.ylabel('Truth')"
      ],
      "metadata": {
        "colab": {
          "base_uri": "https://localhost:8080/",
          "height": 297
        },
        "id": "s2-ecMe766tH",
        "outputId": "c565d990-a829-418a-cfa5-d58c99d91a57"
      },
      "execution_count": 146,
      "outputs": [
        {
          "output_type": "execute_result",
          "data": {
            "text/plain": [
              "Text(33.0, 0.5, 'Truth')"
            ]
          },
          "metadata": {},
          "execution_count": 146
        },
        {
          "output_type": "display_data",
          "data": {
            "text/plain": [
              "<Figure size 432x288 with 2 Axes>"
            ],
            "image/png": "[encoded data removed]"
          },
          "metadata": {
            "needs_background": "light"
          }
        }
      ]
    },
    {
      "cell_type": "code",
      "source": [
        "print(classification_report(y_test2, y_predicted2))"
      ],
      "metadata": {
        "colab": {
          "base_uri": "https://localhost:8080/"
        },
        "id": "A_o1JLio66q-",
        "outputId": "1882913c-2743-42e0-d5a4-4bed10ea7ccc"
      },
      "execution_count": 147,
      "outputs": [
        {
          "output_type": "stream",
          "name": "stdout",
          "text": [
            "              precision    recall  f1-score   support\n",
            "\n",
            "           0       0.60      0.99      0.75       125\n",
            "           1       0.98      0.35      0.52       125\n",
            "\n",
            "    accuracy                           0.67       250\n",
            "   macro avg       0.79      0.67      0.63       250\n",
            "weighted avg       0.79      0.67      0.63       250\n",
            "\n"
          ]
        }
      ]
    },
    {
      "cell_type": "markdown",
      "source": [
        "# **Contextual embeddings using ALBERT-base model**"
      ],
      "metadata": {
        "id": "rimDgiyhfE6G"
      }
    },
    {
      "cell_type": "code",
      "source": [
        "#We split our dataset into test and train\n",
        "#We define the Albert model consisting of input, preprocessing, encoding, neural network layers and finally producing output\n",
        "#These outputs are the probability values of the news text being fake or not. If these values are greater than 0.5, we assign fake label or 1 in our case. Otherwise, we provide label as 0.\n",
        "#Then we fit these models in 5 epochs"
      ],
      "metadata": {
        "id": "ExSUY3TV66oy"
      },
      "execution_count": 148,
      "outputs": []
    },
    {
      "cell_type": "code",
      "source": [
        "#ALBERT preprocessor and ALBERT encoder\n",
        "albert_preprocess = hub.KerasLayer(\"http://tfhub.dev/tensorflow/albert_en_preprocess/3\")\n",
        "albert_encoder = hub.KerasLayer(\"https://tfhub.dev/tensorflow/albert_en_base/3\")"
      ],
      "metadata": {
        "id": "cYm8HHA-66k2"
      },
      "execution_count": 149,
      "outputs": []
    },
    {
      "cell_type": "code",
      "source": [
        "#Splitting into test and train\n",
        "from sklearn.model_selection import train_test_split\n",
        "X_train3, X_test3, y_train3, y_test3 = train_test_split(news1['text'],news1[\"fake\"], stratify = news1['fake'],random_state = 2)"
      ],
      "metadata": {
        "id": "BGkmqyxBfjt3"
      },
      "execution_count": 150,
      "outputs": []
    },
    {
      "cell_type": "code",
      "source": [
        "#Defining the bert model consisting of input, preprocessing, encoding, neural network layers and finally producing output\n",
        "# AlBert layers\n",
        "text_input = tf.keras.layers.Input(shape=(), dtype=tf.string, name='text')\n",
        "preprocessed_text = albert_preprocess(text_input)\n",
        "outputs = albert_encoder(preprocessed_text)\n",
        "\n",
        "# Neural network layers\n",
        "l = tf.keras.layers.Dropout(0.1, name=\"dropout\")(outputs['pooled_output'])\n",
        "l = tf.keras.layers.Dense(1, activation='sigmoid', name=\"output\")(l)\n",
        "\n",
        "# Use inputs and outputs to construct a final model\n",
        "almodel = tf.keras.Model(inputs=[text_input], outputs = [l])"
      ],
      "metadata": {
        "id": "er2WAu0Pfjgw"
      },
      "execution_count": 151,
      "outputs": []
    },
    {
      "cell_type": "code",
      "source": [
        "almodel.summary()"
      ],
      "metadata": {
        "colab": {
          "base_uri": "https://localhost:8080/"
        },
        "id": "0qRa1CKYfjeD",
        "outputId": "b7bde94f-9c24-4ffc-9d36-337b28433553"
      },
      "execution_count": 152,
      "outputs": [
        {
          "output_type": "stream",
          "name": "stdout",
          "text": [
            "Model: \"model_2\"\n",
            "__________________________________________________________________________________________________\n",
            " Layer (type)                   Output Shape         Param #     Connected to                     \n",
            "==================================================================================================\n",
            " text (InputLayer)              [(None,)]            0           []                               \n",
            "                                                                                                  \n",
            " keras_layer_6 (KerasLayer)     {'input_word_ids':   0           ['text[0][0]']                   \n",
            "                                (None, 128),                                                      \n",
            "                                 'input_mask': (Non                                               \n",
            "                                e, 128),                                                          \n",
            "                                 'input_type_ids':                                                \n",
            "                                (None, 128)}                                                      \n",
            "                                                                                                  \n",
            " keras_layer_7 (KerasLayer)     {'pooled_output': (  11683584    ['keras_layer_6[0][0]',          \n",
            "                                None, 768),                       'keras_layer_6[0][1]',          \n",
            "                                 'encoder_outputs':               'keras_layer_6[0][2]']          \n",
            "                                 [(None, 128, 768),                                               \n",
            "                                 (None, 128, 768),                                                \n",
            "                                 (None, 128, 768),                                                \n",
            "                                 (None, 128, 768),                                                \n",
            "                                 (None, 128, 768),                                                \n",
            "                                 (None, 128, 768),                                                \n",
            "                                 (None, 128, 768),                                                \n",
            "                                 (None, 128, 768),                                                \n",
            "                                 (None, 128, 768),                                                \n",
            "                                 (None, 128, 768),                                                \n",
            "                                 (None, 128, 768),                                                \n",
            "                                 (None, 128, 768)],                                               \n",
            "                                 'default': (None,                                                \n",
            "                                768),                                                             \n",
            "                                 'sequence_output':                                               \n",
            "                                 (None, 128, 768)}                                                \n",
            "                                                                                                  \n",
            " dropout (Dropout)              (None, 768)          0           ['keras_layer_7[0][13]']         \n",
            "                                                                                                  \n",
            " output (Dense)                 (None, 1)            769         ['dropout[0][0]']                \n",
            "                                                                                                  \n",
            "==================================================================================================\n",
            "Total params: 11,684,353\n",
            "Trainable params: 769\n",
            "Non-trainable params: 11,683,584\n",
            "__________________________________________________________________________________________________\n"
          ]
        }
      ]
    },
    {
      "cell_type": "code",
      "source": [
        "#Defining metrics for model evaluation\n",
        "METRICS = [\n",
        "      tf.keras.metrics.BinaryAccuracy(name='accuracy'),\n",
        "      tf.keras.metrics.Precision(name='precision'),\n",
        "      tf.keras.metrics.Recall(name='recall')\n",
        "]\n",
        "\n",
        "almodel.compile(optimizer='adam',\n",
        "              loss='binary_crossentropy',\n",
        "              metrics=METRICS)\n"
      ],
      "metadata": {
        "id": "498yhG48fjap"
      },
      "execution_count": 153,
      "outputs": []
    },
    {
      "cell_type": "code",
      "source": [
        "#Fitting the model\n",
        "almodel.fit(X_train3, y_train3, epochs=5)"
      ],
      "metadata": {
        "colab": {
          "base_uri": "https://localhost:8080/"
        },
        "id": "xxsOmou8fjVH",
        "outputId": "5714f1ec-7275-4e26-e324-4a30c7af1cf4"
      },
      "execution_count": 154,
      "outputs": [
        {
          "output_type": "stream",
          "name": "stdout",
          "text": [
            "Epoch 1/5\n",
            "24/24 [==============================] - 433s 17s/step - loss: 0.5408 - accuracy: 0.7373 - precision: 0.7330 - recall: 0.7467\n",
            "Epoch 2/5\n",
            "24/24 [==============================] - 359s 15s/step - loss: 0.3220 - accuracy: 0.9093 - precision: 0.8828 - recall: 0.9440\n",
            "Epoch 3/5\n",
            "24/24 [==============================] - 357s 15s/step - loss: 0.2509 - accuracy: 0.9280 - precision: 0.9105 - recall: 0.9493\n",
            "Epoch 4/5\n",
            "24/24 [==============================] - 363s 15s/step - loss: 0.2056 - accuracy: 0.9520 - precision: 0.9449 - recall: 0.9600\n",
            "Epoch 5/5\n",
            "24/24 [==============================] - 362s 15s/step - loss: 0.1753 - accuracy: 0.9587 - precision: 0.9456 - recall: 0.9733\n"
          ]
        },
        {
          "output_type": "execute_result",
          "data": {
            "text/plain": [
              "<keras.callbacks.History at 0x7fe4f76ac450>"
            ]
          },
          "metadata": {},
          "execution_count": 154
        }
      ]
    },
    {
      "cell_type": "code",
      "source": [
        "almodel.evaluate(X_test3, y_test3)"
      ],
      "metadata": {
        "colab": {
          "base_uri": "https://localhost:8080/"
        },
        "id": "P_aAnxtwghpQ",
        "outputId": "0b22d27a-1262-47fd-9d24-739a82e051e4"
      },
      "execution_count": 155,
      "outputs": [
        {
          "output_type": "stream",
          "name": "stdout",
          "text": [
            "8/8 [==============================] - 121s 15s/step - loss: 0.1760 - accuracy: 0.9680 - precision: 0.9835 - recall: 0.9520\n"
          ]
        },
        {
          "output_type": "execute_result",
          "data": {
            "text/plain": [
              "[0.17596982419490814,\n",
              " 0.9679999947547913,\n",
              " 0.9834710955619812,\n",
              " 0.9520000219345093]"
            ]
          },
          "metadata": {},
          "execution_count": 155
        }
      ]
    },
    {
      "cell_type": "code",
      "source": [
        "#Making predictions\n",
        "y_predicted3 = almodel.predict(X_test3)\n",
        "y_predicted3 = y_predicted3.flatten()"
      ],
      "metadata": {
        "id": "6MU58uw7ghm-"
      },
      "execution_count": 156,
      "outputs": []
    },
    {
      "cell_type": "code",
      "source": [
        "#Changing probability values to 0 and 1 based on whether the value is greater than 0.5 or not\n",
        "import numpy as np\n",
        "y_predicted3 = np.where(y_predicted3 > 0.5, 1, 0)\n",
        "y_predicted3"
      ],
      "metadata": {
        "colab": {
          "base_uri": "https://localhost:8080/"
        },
        "id": "HxBV4loXghid",
        "outputId": "f2641e69-0809-497c-f58e-e7a5794983c1"
      },
      "execution_count": 157,
      "outputs": [
        {
          "output_type": "execute_result",
          "data": {
            "text/plain": [
              "array([0, 0, 1, 0, 1, 0, 1, 0, 0, 0, 1, 1, 0, 0, 0, 0, 0, 1, 1, 1, 0, 1,\n",
              "       1, 0, 1, 0, 0, 1, 1, 1, 1, 1, 1, 0, 0, 0, 1, 1, 0, 1, 0, 1, 0, 1,\n",
              "       1, 0, 0, 0, 0, 1, 0, 0, 1, 1, 0, 0, 0, 1, 0, 1, 0, 0, 1, 1, 1, 0,\n",
              "       0, 0, 1, 0, 1, 0, 0, 0, 1, 0, 1, 0, 0, 0, 0, 1, 1, 1, 1, 1, 1, 1,\n",
              "       0, 0, 1, 1, 0, 1, 0, 1, 1, 0, 0, 1, 1, 0, 0, 0, 1, 1, 1, 0, 0, 1,\n",
              "       1, 1, 0, 0, 0, 0, 0, 1, 0, 0, 0, 0, 1, 0, 0, 1, 0, 0, 0, 1, 1, 0,\n",
              "       1, 0, 0, 1, 1, 0, 0, 1, 0, 1, 1, 1, 1, 0, 1, 0, 0, 0, 1, 0, 1, 1,\n",
              "       0, 1, 1, 1, 0, 1, 0, 1, 0, 0, 1, 1, 1, 0, 1, 0, 1, 0, 1, 1, 1, 0,\n",
              "       0, 1, 0, 1, 1, 0, 1, 1, 0, 1, 0, 0, 0, 0, 0, 1, 0, 1, 0, 1, 0, 0,\n",
              "       1, 0, 0, 1, 1, 1, 1, 0, 1, 0, 0, 1, 1, 1, 0, 1, 0, 1, 0, 1, 1, 1,\n",
              "       1, 0, 0, 1, 0, 1, 0, 0, 0, 0, 0, 1, 0, 0, 1, 0, 0, 0, 0, 1, 1, 1,\n",
              "       1, 1, 1, 0, 1, 0, 0, 1])"
            ]
          },
          "metadata": {},
          "execution_count": 157
        }
      ]
    },
    {
      "cell_type": "code",
      "source": [
        "#confusion metrics\n",
        "from sklearn.metrics import confusion_matrix, classification_report\n",
        "cm3 = confusion_matrix(y_test3, y_predicted3)\n",
        "cm3"
      ],
      "metadata": {
        "colab": {
          "base_uri": "https://localhost:8080/"
        },
        "id": "xxrIfq4wghdV",
        "outputId": "66bbd444-6a73-4a1a-b0ce-b403c19391d4"
      },
      "execution_count": 158,
      "outputs": [
        {
          "output_type": "execute_result",
          "data": {
            "text/plain": [
              "array([[123,   2],\n",
              "       [  6, 119]])"
            ]
          },
          "metadata": {},
          "execution_count": 158
        }
      ]
    },
    {
      "cell_type": "code",
      "source": [
        "#Heat map\n",
        "from matplotlib import pyplot as plt\n",
        "import seaborn as sn\n",
        "sn.heatmap(cm3, annot=True, fmt='d')\n",
        "plt.xlabel('Predicted')\n",
        "plt.ylabel('Truth')"
      ],
      "metadata": {
        "colab": {
          "base_uri": "https://localhost:8080/",
          "height": 297
        },
        "id": "yCJjduFIhEH4",
        "outputId": "60c55a51-11b8-4c1c-8825-7ce36ebb4711"
      },
      "execution_count": 159,
      "outputs": [
        {
          "output_type": "execute_result",
          "data": {
            "text/plain": [
              "Text(33.0, 0.5, 'Truth')"
            ]
          },
          "metadata": {},
          "execution_count": 159
        },
        {
          "output_type": "display_data",
          "data": {
            "text/plain": [
              "<Figure size 432x288 with 2 Axes>"
            ],
            "image/png": "[encoded data removed]"
          },
          "metadata": {
            "needs_background": "light"
          }
        }
      ]
    },
    {
      "cell_type": "code",
      "source": [
        "print(classification_report(y_test3, y_predicted3))"
      ],
      "metadata": {
        "colab": {
          "base_uri": "https://localhost:8080/"
        },
        "id": "JVzjPkIxhEGe",
        "outputId": "8757d495-caaf-4727-8504-fa0b24dee576"
      },
      "execution_count": 160,
      "outputs": [
        {
          "output_type": "stream",
          "name": "stdout",
          "text": [
            "              precision    recall  f1-score   support\n",
            "\n",
            "           0       0.95      0.98      0.97       125\n",
            "           1       0.98      0.95      0.97       125\n",
            "\n",
            "    accuracy                           0.97       250\n",
            "   macro avg       0.97      0.97      0.97       250\n",
            "weighted avg       0.97      0.97      0.97       250\n",
            "\n"
          ]
        }
      ]
    },
    {
      "cell_type": "markdown",
      "source": [
        "# **Result summary**"
      ],
      "metadata": {
        "id": "bxuKB0mFszLf"
      }
    },
    {
      "cell_type": "code",
      "source": [
        "#Printing classification reports for classification models using following word embeddings:"
      ],
      "metadata": {
        "id": "0G_nPOwUhEEj"
      },
      "execution_count": 174,
      "outputs": []
    },
    {
      "cell_type": "code",
      "source": [
        "#Word2vec\n",
        "print(classification_report(y_test, y_pred))"
      ],
      "metadata": {
        "colab": {
          "base_uri": "https://localhost:8080/"
        },
        "id": "9xq12hJ_hD-a",
        "outputId": "e8105654-87b0-483c-8d9d-4ba06f662e45"
      },
      "execution_count": 173,
      "outputs": [
        {
          "output_type": "stream",
          "name": "stdout",
          "text": [
            "              precision    recall  f1-score   support\n",
            "\n",
            "           0       0.81      0.92      0.86       121\n",
            "           1       0.91      0.80      0.85       129\n",
            "\n",
            "    accuracy                           0.86       250\n",
            "   macro avg       0.86      0.86      0.86       250\n",
            "weighted avg       0.86      0.86      0.86       250\n",
            "\n"
          ]
        }
      ]
    },
    {
      "cell_type": "code",
      "source": [
        "#BERT-base\n",
        "print(classification_report(y_test1, y_predicted1))"
      ],
      "metadata": {
        "colab": {
          "base_uri": "https://localhost:8080/"
        },
        "id": "wJzwa8cVtXno",
        "outputId": "03973744-a06a-4894-ef80-dafa4eeb6a96"
      },
      "execution_count": 177,
      "outputs": [
        {
          "output_type": "stream",
          "name": "stdout",
          "text": [
            "              precision    recall  f1-score   support\n",
            "\n",
            "           0       0.84      0.88      0.86       125\n",
            "           1       0.87      0.83      0.85       125\n",
            "\n",
            "    accuracy                           0.86       250\n",
            "   macro avg       0.86      0.86      0.86       250\n",
            "weighted avg       0.86      0.86      0.86       250\n",
            "\n"
          ]
        }
      ]
    },
    {
      "cell_type": "code",
      "source": [
        "#BERT-large\n",
        "print(classification_report(y_test2, y_predicted2))"
      ],
      "metadata": {
        "colab": {
          "base_uri": "https://localhost:8080/"
        },
        "id": "ElvI5XvwtXhg",
        "outputId": "cfbfe897-1362-4327-9108-770f6a26fafb"
      },
      "execution_count": 178,
      "outputs": [
        {
          "output_type": "stream",
          "name": "stdout",
          "text": [
            "              precision    recall  f1-score   support\n",
            "\n",
            "           0       0.60      0.99      0.75       125\n",
            "           1       0.98      0.35      0.52       125\n",
            "\n",
            "    accuracy                           0.67       250\n",
            "   macro avg       0.79      0.67      0.63       250\n",
            "weighted avg       0.79      0.67      0.63       250\n",
            "\n"
          ]
        }
      ]
    },
    {
      "cell_type": "code",
      "source": [
        "#AlBERT\n",
        "print(classification_report(y_test3, y_predicted3))"
      ],
      "metadata": {
        "colab": {
          "base_uri": "https://localhost:8080/"
        },
        "id": "XCYtNV85tXWe",
        "outputId": "2224e21c-c78c-4a04-d869-edfb0129ec4c"
      },
      "execution_count": 179,
      "outputs": [
        {
          "output_type": "stream",
          "name": "stdout",
          "text": [
            "              precision    recall  f1-score   support\n",
            "\n",
            "           0       0.95      0.98      0.97       125\n",
            "           1       0.98      0.95      0.97       125\n",
            "\n",
            "    accuracy                           0.97       250\n",
            "   macro avg       0.97      0.97      0.97       250\n",
            "weighted avg       0.97      0.97      0.97       250\n",
            "\n"
          ]
        }
      ]
    },
    {
      "cell_type": "code",
      "source": [
        "#We observe that classification model using word2vec embedding gives almost same results as compared to models using BERT-base embedding.\n",
        "#Classification model with BERT-large embedding performs the worst giving low values for precision, recall and accuracy as compared to other cases\n",
        "#Classification model with AlBERT embedding outperforms all the other models giving very high values for recall, precision and accuracy(all values closer to 0.97)\n",
        "#For the task of binary text classification, we found that AlBERT model is the best as compared to BERT and word2vec."
      ],
      "metadata": {
        "id": "pEnPOCH3t0qz"
      },
      "execution_count": 182,
      "outputs": []
    }
  ]
}